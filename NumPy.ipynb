{
  "nbformat": 4,
  "nbformat_minor": 0,
  "metadata": {
    "colab": {
      "provenance": [],
      "authorship_tag": "ABX9TyNz3q+ffW+y4MBUw4wZ8dpD",
      "include_colab_link": true
    },
    "kernelspec": {
      "name": "python3",
      "display_name": "Python 3"
    },
    "language_info": {
      "name": "python"
    }
  },
  "cells": [
    {
      "cell_type": "markdown",
      "metadata": {
        "id": "view-in-github",
        "colab_type": "text"
      },
      "source": [
        "<a href=\"https://colab.research.google.com/github/shuvookd/Machine_Learning/blob/main/NumPy.ipynb\" target=\"_parent\"><img src=\"https://colab.research.google.com/assets/colab-badge.svg\" alt=\"Open In Colab\"/></a>"
      ]
    },
    {
      "cell_type": "markdown",
      "source": [
        "### **What is Numpy?**\n",
        "\n",
        "Ans: **NumPy** is a scientific computing library for python.\n",
        "\n",
        "Support large number of data in the form of multi-dimensional array and matrix.\n"
      ],
      "metadata": {
        "id": "wlIpjDYcdYZl"
      }
    },
    {
      "cell_type": "markdown",
      "source": [
        "### **NumPy Information**\n",
        "NumPy 2d Array(Metrix)\n",
        "\n",
        "NumPy 1d Array(Vector)\n",
        "\n",
        "***Extension:***\n",
        "\n",
        ".tsv(Tab)\n",
        "\n",
        ".csv(Comma)"
      ],
      "metadata": {
        "id": "gJobw4hoevCa"
      }
    },
    {
      "cell_type": "markdown",
      "source": [
        "### **NumPy Installation**\n",
        "\n",
        "pip install numpy"
      ],
      "metadata": {
        "id": "7JFfXIbYfdVr"
      }
    },
    {
      "cell_type": "code",
      "execution_count": 29,
      "metadata": {
        "id": "22OLkgytdFrI"
      },
      "outputs": [],
      "source": [
        "import numpy as np"
      ]
    },
    {
      "cell_type": "markdown",
      "source": [
        "### NumPy Function\n",
        "\n",
        "Type of variable: **type(arrayName)**\n",
        "\n",
        "Convert variable to boolean: **bool(var_name)**\n",
        "\n",
        "Dimension of array: **arrayName.ndim**\n",
        "\n",
        "Size of array: **arrayName.size**\n",
        "\n",
        "Shape of array: **arrayName.shape**\n",
        "\n",
        "Data Type of array: **arrayName.dtype**\n",
        "\n",
        "Creating Ones Matrix: **np.ones((row,colunm), dtype = int/float/bool/str)**\n",
        "\n",
        "Creating Zeros Matrix: **np.zeros((row,colunm), dtype = int/float/bool/str)**\n"
      ],
      "metadata": {
        "id": "6KkD1khnkEe6"
      }
    },
    {
      "cell_type": "markdown",
      "source": [
        "### **Create 1D Array**"
      ],
      "metadata": {
        "id": "7GCH2Uqehasw"
      }
    },
    {
      "cell_type": "code",
      "source": [
        "array_1d = np.array([1,2,3,4])\n",
        "print(array_1d)"
      ],
      "metadata": {
        "colab": {
          "base_uri": "https://localhost:8080/"
        },
        "id": "xoxN3inugKm-",
        "outputId": "51f2a2ad-609d-436e-8b3b-2b3da4454dd0"
      },
      "execution_count": 30,
      "outputs": [
        {
          "output_type": "stream",
          "name": "stdout",
          "text": [
            "[1 2 3 4]\n"
          ]
        }
      ]
    },
    {
      "cell_type": "code",
      "source": [
        "# To know The type of variable: type()\n",
        "type(array_1d)"
      ],
      "metadata": {
        "colab": {
          "base_uri": "https://localhost:8080/"
        },
        "id": "5IIOS0auglmk",
        "outputId": "bb9c6918-d3b9-4ced-9248-17efaeb920a8"
      },
      "execution_count": 31,
      "outputs": [
        {
          "output_type": "execute_result",
          "data": {
            "text/plain": [
              "numpy.ndarray"
            ]
          },
          "metadata": {},
          "execution_count": 31
        }
      ]
    },
    {
      "cell_type": "code",
      "source": [
        "# To know The dimension of array: arrayName.ndim\n",
        "array_1d.ndim"
      ],
      "metadata": {
        "colab": {
          "base_uri": "https://localhost:8080/"
        },
        "id": "M0-TbrQZgram",
        "outputId": "900eab79-28d0-46d1-b499-dca441e7c634"
      },
      "execution_count": 32,
      "outputs": [
        {
          "output_type": "execute_result",
          "data": {
            "text/plain": [
              "1"
            ]
          },
          "metadata": {},
          "execution_count": 32
        }
      ]
    },
    {
      "cell_type": "markdown",
      "source": [
        "### **Creating 2D Array**"
      ],
      "metadata": {
        "id": "3AcgbhjUhp60"
      }
    },
    {
      "cell_type": "code",
      "source": [
        "array_2d = np.array([[1,2,3,4],[5,6,7,8]])\n",
        "print(array_2d)\n"
      ],
      "metadata": {
        "colab": {
          "base_uri": "https://localhost:8080/"
        },
        "id": "Jj9itZ72hRIv",
        "outputId": "00649716-3fbf-40f7-d203-136a1973917f"
      },
      "execution_count": 33,
      "outputs": [
        {
          "output_type": "stream",
          "name": "stdout",
          "text": [
            "[[1 2 3 4]\n",
            " [5 6 7 8]]\n"
          ]
        }
      ]
    },
    {
      "cell_type": "code",
      "source": [
        "# To know The size of array: arrayName.size\n",
        "array_2d.size"
      ],
      "metadata": {
        "colab": {
          "base_uri": "https://localhost:8080/"
        },
        "id": "pDpkaP1rjmko",
        "outputId": "847cc660-b30a-4bee-cd10-9c5ce5f73221"
      },
      "execution_count": 34,
      "outputs": [
        {
          "output_type": "execute_result",
          "data": {
            "text/plain": [
              "8"
            ]
          },
          "metadata": {},
          "execution_count": 34
        }
      ]
    },
    {
      "cell_type": "code",
      "source": [
        "# To know The shape of array: arrayName.shape\n",
        "#(Row, Colunm)\n",
        "array_2d.shape"
      ],
      "metadata": {
        "colab": {
          "base_uri": "https://localhost:8080/"
        },
        "id": "bBXsDCNpjr84",
        "outputId": "b07f9de1-368d-4690-c518-2a30b05333b8"
      },
      "execution_count": 35,
      "outputs": [
        {
          "output_type": "execute_result",
          "data": {
            "text/plain": [
              "(2, 4)"
            ]
          },
          "metadata": {},
          "execution_count": 35
        }
      ]
    },
    {
      "cell_type": "code",
      "source": [
        "# To know The Data Type of array: arrayName.dtype\n",
        "array_2d.dtype"
      ],
      "metadata": {
        "colab": {
          "base_uri": "https://localhost:8080/"
        },
        "id": "BEIfLjuklh6W",
        "outputId": "68781223-094c-4844-cfc5-1b40e61e3772"
      },
      "execution_count": 36,
      "outputs": [
        {
          "output_type": "execute_result",
          "data": {
            "text/plain": [
              "dtype('int64')"
            ]
          },
          "metadata": {},
          "execution_count": 36
        }
      ]
    },
    {
      "cell_type": "markdown",
      "source": [
        "### **Creating One's Matrix**"
      ],
      "metadata": {
        "id": "KmIjMVDemyfZ"
      }
    },
    {
      "cell_type": "code",
      "source": [
        "matrix_1s = np.array([[1,1,1],[1,1,1],[1,1,1]])\n",
        "print(matrix_1s)\n"
      ],
      "metadata": {
        "colab": {
          "base_uri": "https://localhost:8080/"
        },
        "id": "0LRdU8NUm7hy",
        "outputId": "4f6ef13c-8c1f-4294-dab8-675a1f36ce1f"
      },
      "execution_count": 37,
      "outputs": [
        {
          "output_type": "stream",
          "name": "stdout",
          "text": [
            "[[1 1 1]\n",
            " [1 1 1]\n",
            " [1 1 1]]\n"
          ]
        }
      ]
    },
    {
      "cell_type": "code",
      "source": [
        "ones_matrix = np.ones((2,3), dtype = int)\n",
        "print(ones_matrix)"
      ],
      "metadata": {
        "colab": {
          "base_uri": "https://localhost:8080/"
        },
        "id": "Y_-CEGMWnYly",
        "outputId": "4dd69272-7a04-4149-b369-5a260473f5c7"
      },
      "execution_count": 38,
      "outputs": [
        {
          "output_type": "stream",
          "name": "stdout",
          "text": [
            "[[1 1 1]\n",
            " [1 1 1]]\n"
          ]
        }
      ]
    },
    {
      "cell_type": "markdown",
      "source": [
        "### **Creating Zero's Matrix**"
      ],
      "metadata": {
        "id": "IOsQqqEvpPAJ"
      }
    },
    {
      "cell_type": "code",
      "source": [
        "Zeros_matrix = np.zeros((3,4), dtype = bool)\n",
        "print(Zeros_matrix)"
      ],
      "metadata": {
        "colab": {
          "base_uri": "https://localhost:8080/"
        },
        "id": "P-X1sQWNpRJi",
        "outputId": "fc907373-656c-456d-ba36-736179423229"
      },
      "execution_count": 39,
      "outputs": [
        {
          "output_type": "stream",
          "name": "stdout",
          "text": [
            "[[False False False False]\n",
            " [False False False False]\n",
            " [False False False False]]\n"
          ]
        }
      ]
    },
    {
      "cell_type": "code",
      "source": [
        "Zeros_matrix = np.zeros((3,4), dtype = str)\n",
        "print(Zeros_matrix)"
      ],
      "metadata": {
        "colab": {
          "base_uri": "https://localhost:8080/"
        },
        "id": "HhIPz93iqMUo",
        "outputId": "dfbc9942-a17d-4ce9-8f97-d2da4e8709d8"
      },
      "execution_count": 40,
      "outputs": [
        {
          "output_type": "stream",
          "name": "stdout",
          "text": [
            "[['' '' '' '']\n",
            " ['' '' '' '']\n",
            " ['' '' '' '']]\n"
          ]
        }
      ]
    },
    {
      "cell_type": "code",
      "source": [
        "#Convert string to boolean\n",
        "empty_string = ''\n",
        "print(bool(empty_string))\n"
      ],
      "metadata": {
        "colab": {
          "base_uri": "https://localhost:8080/"
        },
        "id": "cP768yIPrCkN",
        "outputId": "f0e77528-9dac-4001-c893-4dee0795c13c"
      },
      "execution_count": 41,
      "outputs": [
        {
          "output_type": "stream",
          "name": "stdout",
          "text": [
            "False\n"
          ]
        }
      ]
    },
    {
      "cell_type": "markdown",
      "source": [
        "### **Create Empty Matrix**"
      ],
      "metadata": {
        "id": "0PVFeYUBui68"
      }
    },
    {
      "cell_type": "code",
      "source": [
        "# Expty matrix always show random Values\n",
        "empty_matrix = np.empty((3,3))\n",
        "print(empty_matrix)"
      ],
      "metadata": {
        "colab": {
          "base_uri": "https://localhost:8080/"
        },
        "id": "My14iGNysRjV",
        "outputId": "e23c2387-4454-4236-dc61-3da73718c841"
      },
      "execution_count": 42,
      "outputs": [
        {
          "output_type": "stream",
          "name": "stdout",
          "text": [
            "[[5.e-324 5.e-324 5.e-324]\n",
            " [5.e-324 5.e-324 5.e-324]\n",
            " [5.e-324 5.e-324 5.e-324]]\n"
          ]
        }
      ]
    }
  ]
}