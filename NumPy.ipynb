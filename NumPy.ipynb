{
  "nbformat": 4,
  "nbformat_minor": 0,
  "metadata": {
    "colab": {
      "provenance": [],
      "authorship_tag": "ABX9TyNz3q+ffW+y4MBUw4wZ8dpD",
      "include_colab_link": true
    },
    "kernelspec": {
      "name": "python3",
      "display_name": "Python 3"
    },
    "language_info": {
      "name": "python"
    }
  },
  "cells": [
    {
      "cell_type": "markdown",
      "metadata": {
        "id": "view-in-github",
        "colab_type": "text"
      },
      "source": [
        "<a href=\"https://colab.research.google.com/github/shuvookd/Machine_Learning/blob/main/NumPy.ipynb\" target=\"_parent\"><img src=\"https://colab.research.google.com/assets/colab-badge.svg\" alt=\"Open In Colab\"/></a>"
      ]
    },
    {
      "cell_type": "markdown",
      "source": [
        "### **What is Numpy?**\n",
        "\n",
        "Ans: **NumPy** is a scientific computing library for python.\n",
        "\n",
        "Support large number of data in the form of multi-dimensional array and matrix.\n"
      ],
      "metadata": {
        "id": "wlIpjDYcdYZl"
      }
    },
    {
      "cell_type": "markdown",
      "source": [
        "### **NumPy Information**\n",
        "NumPy 2d Array(Metrix)\n",
        "\n",
        "NumPy 1d Array(Vector)\n",
        "\n",
        "***Extension:***\n",
        "\n",
        ".tsv(Tab)\n",
        "\n",
        ".csv(Comma)"
      ],
      "metadata": {
        "id": "gJobw4hoevCa"
      }
    },
    {
      "cell_type": "markdown",
      "source": [
        "### **NumPy Installation**\n",
        "\n",
        "pip install numpy"
      ],
      "metadata": {
        "id": "7JFfXIbYfdVr"
      }
    },
    {
      "cell_type": "code",
      "execution_count": 96,
      "metadata": {
        "id": "22OLkgytdFrI"
      },
      "outputs": [],
      "source": [
        "import numpy as np"
      ]
    },
    {
      "cell_type": "markdown",
      "source": [
        "### NumPy Function\n",
        "\n",
        "Type of variable: **type(arrayName)**\n",
        "\n",
        "Convert variable to boolean: **bool(var_name)**\n",
        "\n",
        "Dimension of array: **arrayName.ndim**\n",
        "\n",
        "Size of array: **arrayName.size**\n",
        "\n",
        "Shape of array: **arrayName.shape**\n",
        "\n",
        "Data Type of array: **arrayName.dtype**\n",
        "\n",
        "Creating Ones Matrix: **np.ones((row,colunm), dtype = int/float/bool/str)**\n",
        "\n",
        "Creating Zeros Matrix: **np.zeros((row,colunm), dtype = int/float/bool/str)**\n"
      ],
      "metadata": {
        "id": "6KkD1khnkEe6"
      }
    },
    {
      "cell_type": "markdown",
      "source": [
        "### **Create 1D Array**"
      ],
      "metadata": {
        "id": "7GCH2Uqehasw"
      }
    },
    {
      "cell_type": "code",
      "source": [
        "array_1d = np.array([1,2,3,4])\n",
        "print(array_1d)"
      ],
      "metadata": {
        "colab": {
          "base_uri": "https://localhost:8080/"
        },
        "id": "xoxN3inugKm-",
        "outputId": "ff851161-87b4-4c64-b7fd-092bde67d8f9"
      },
      "execution_count": 97,
      "outputs": [
        {
          "output_type": "stream",
          "name": "stdout",
          "text": [
            "[1 2 3 4]\n"
          ]
        }
      ]
    },
    {
      "cell_type": "code",
      "source": [
        "# To know The type of variable: type()\n",
        "type(array_1d)"
      ],
      "metadata": {
        "colab": {
          "base_uri": "https://localhost:8080/"
        },
        "id": "5IIOS0auglmk",
        "outputId": "29fdfa0c-dc80-4d67-88a0-d78c8eb249bf"
      },
      "execution_count": 98,
      "outputs": [
        {
          "output_type": "execute_result",
          "data": {
            "text/plain": [
              "numpy.ndarray"
            ]
          },
          "metadata": {},
          "execution_count": 98
        }
      ]
    },
    {
      "cell_type": "code",
      "source": [
        "# To know The dimension of array: arrayName.ndim\n",
        "array_1d.ndim"
      ],
      "metadata": {
        "colab": {
          "base_uri": "https://localhost:8080/"
        },
        "id": "M0-TbrQZgram",
        "outputId": "a7183a3d-2ac5-4484-afeb-1e014a6d6c03"
      },
      "execution_count": 99,
      "outputs": [
        {
          "output_type": "execute_result",
          "data": {
            "text/plain": [
              "1"
            ]
          },
          "metadata": {},
          "execution_count": 99
        }
      ]
    },
    {
      "cell_type": "markdown",
      "source": [
        "### **Creating 2D Array**"
      ],
      "metadata": {
        "id": "3AcgbhjUhp60"
      }
    },
    {
      "cell_type": "code",
      "source": [
        "array_2d = np.array([[1,2,3,4],[5,6,7,8]])\n",
        "print(array_2d)\n"
      ],
      "metadata": {
        "colab": {
          "base_uri": "https://localhost:8080/"
        },
        "id": "Jj9itZ72hRIv",
        "outputId": "f1b86faf-05b4-4064-fd5f-79478d5012b1"
      },
      "execution_count": 100,
      "outputs": [
        {
          "output_type": "stream",
          "name": "stdout",
          "text": [
            "[[1 2 3 4]\n",
            " [5 6 7 8]]\n"
          ]
        }
      ]
    },
    {
      "cell_type": "code",
      "source": [
        "# To know The size of array: arrayName.size\n",
        "array_2d.size"
      ],
      "metadata": {
        "colab": {
          "base_uri": "https://localhost:8080/"
        },
        "id": "pDpkaP1rjmko",
        "outputId": "67d5a5ce-6634-4dec-a6ee-4d6aeb20bbcd"
      },
      "execution_count": 101,
      "outputs": [
        {
          "output_type": "execute_result",
          "data": {
            "text/plain": [
              "8"
            ]
          },
          "metadata": {},
          "execution_count": 101
        }
      ]
    },
    {
      "cell_type": "code",
      "source": [
        "# To know The shape of array: arrayName.shape\n",
        "#(Row, Colunm)\n",
        "array_2d.shape"
      ],
      "metadata": {
        "colab": {
          "base_uri": "https://localhost:8080/"
        },
        "id": "bBXsDCNpjr84",
        "outputId": "52060243-ec03-4ddb-bf53-643339504501"
      },
      "execution_count": 102,
      "outputs": [
        {
          "output_type": "execute_result",
          "data": {
            "text/plain": [
              "(2, 4)"
            ]
          },
          "metadata": {},
          "execution_count": 102
        }
      ]
    },
    {
      "cell_type": "code",
      "source": [
        "# To know The Data Type of array: arrayName.dtype\n",
        "array_2d.dtype"
      ],
      "metadata": {
        "colab": {
          "base_uri": "https://localhost:8080/"
        },
        "id": "BEIfLjuklh6W",
        "outputId": "fe5402e6-9354-423a-ba18-37bb42993fdd"
      },
      "execution_count": 103,
      "outputs": [
        {
          "output_type": "execute_result",
          "data": {
            "text/plain": [
              "dtype('int64')"
            ]
          },
          "metadata": {},
          "execution_count": 103
        }
      ]
    },
    {
      "cell_type": "markdown",
      "source": [
        "### **Creating One's Matrix**"
      ],
      "metadata": {
        "id": "KmIjMVDemyfZ"
      }
    },
    {
      "cell_type": "code",
      "source": [
        "matrix_1s = np.array([[1,1,1],[1,1,1],[1,1,1]])\n",
        "print(matrix_1s)\n"
      ],
      "metadata": {
        "colab": {
          "base_uri": "https://localhost:8080/"
        },
        "id": "0LRdU8NUm7hy",
        "outputId": "dedb59c1-06e4-4901-c439-466fdc7fcc8c"
      },
      "execution_count": 104,
      "outputs": [
        {
          "output_type": "stream",
          "name": "stdout",
          "text": [
            "[[1 1 1]\n",
            " [1 1 1]\n",
            " [1 1 1]]\n"
          ]
        }
      ]
    },
    {
      "cell_type": "code",
      "source": [
        "ones_matrix = np.ones((2,3), dtype = int)\n",
        "print(ones_matrix)"
      ],
      "metadata": {
        "colab": {
          "base_uri": "https://localhost:8080/"
        },
        "id": "Y_-CEGMWnYly",
        "outputId": "d3ee11c0-2125-4b43-ae13-6279eea51c65"
      },
      "execution_count": 105,
      "outputs": [
        {
          "output_type": "stream",
          "name": "stdout",
          "text": [
            "[[1 1 1]\n",
            " [1 1 1]]\n"
          ]
        }
      ]
    },
    {
      "cell_type": "markdown",
      "source": [
        "### **Creating Zero's Matrix**"
      ],
      "metadata": {
        "id": "IOsQqqEvpPAJ"
      }
    },
    {
      "cell_type": "code",
      "source": [
        "Zeros_matrix = np.zeros((3,4), dtype = bool)\n",
        "print(Zeros_matrix)"
      ],
      "metadata": {
        "colab": {
          "base_uri": "https://localhost:8080/"
        },
        "id": "P-X1sQWNpRJi",
        "outputId": "f3f8e4db-6d0a-4305-9ab9-e34503fe0b41"
      },
      "execution_count": 106,
      "outputs": [
        {
          "output_type": "stream",
          "name": "stdout",
          "text": [
            "[[False False False False]\n",
            " [False False False False]\n",
            " [False False False False]]\n"
          ]
        }
      ]
    },
    {
      "cell_type": "code",
      "source": [
        "Zeros_matrix = np.zeros((3,4), dtype = str)\n",
        "print(Zeros_matrix)"
      ],
      "metadata": {
        "colab": {
          "base_uri": "https://localhost:8080/"
        },
        "id": "HhIPz93iqMUo",
        "outputId": "2da9eba3-8b66-44cb-803b-54430c93842e"
      },
      "execution_count": 107,
      "outputs": [
        {
          "output_type": "stream",
          "name": "stdout",
          "text": [
            "[['' '' '' '']\n",
            " ['' '' '' '']\n",
            " ['' '' '' '']]\n"
          ]
        }
      ]
    },
    {
      "cell_type": "code",
      "source": [
        "#Convert string to boolean\n",
        "empty_string = ''\n",
        "print(bool(empty_string))\n"
      ],
      "metadata": {
        "colab": {
          "base_uri": "https://localhost:8080/"
        },
        "id": "cP768yIPrCkN",
        "outputId": "336ad25e-f03f-413f-8add-fe708283ac50"
      },
      "execution_count": 109,
      "outputs": [
        {
          "output_type": "stream",
          "name": "stdout",
          "text": [
            "False\n"
          ]
        }
      ]
    },
    {
      "cell_type": "markdown",
      "source": [
        "### **Create Empty Matrix**"
      ],
      "metadata": {
        "id": "0PVFeYUBui68"
      }
    },
    {
      "cell_type": "code",
      "source": [
        "# Expty matrix always show random Values\n",
        "empty_matrix = np.empty((3,3))\n",
        "print(empty_matrix)"
      ],
      "metadata": {
        "colab": {
          "base_uri": "https://localhost:8080/"
        },
        "id": "My14iGNysRjV",
        "outputId": "2e58563a-982d-4915-bddd-26017ce31357"
      },
      "execution_count": 111,
      "outputs": [
        {
          "output_type": "stream",
          "name": "stdout",
          "text": [
            "[[5.e-324 5.e-324 5.e-324]\n",
            " [5.e-324 5.e-324 5.e-324]\n",
            " [5.e-324 5.e-324 5.e-324]]\n"
          ]
        }
      ]
    }
  ]
}