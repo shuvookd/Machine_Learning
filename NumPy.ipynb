{
  "nbformat": 4,
  "nbformat_minor": 0,
  "metadata": {
    "colab": {
      "provenance": [],
      "authorship_tag": "ABX9TyM660I32M7gF+wuMk2T1k6z",
      "include_colab_link": true
    },
    "kernelspec": {
      "name": "python3",
      "display_name": "Python 3"
    },
    "language_info": {
      "name": "python"
    }
  },
  "cells": [
    {
      "cell_type": "markdown",
      "metadata": {
        "id": "view-in-github",
        "colab_type": "text"
      },
      "source": [
        "<a href=\"https://colab.research.google.com/github/shuvookd/Machine_Learning/blob/main/NumPy.ipynb\" target=\"_parent\"><img src=\"https://colab.research.google.com/assets/colab-badge.svg\" alt=\"Open In Colab\"/></a>"
      ]
    },
    {
      "cell_type": "markdown",
      "source": [
        "### **What is Numpy?**\n",
        "\n",
        "Ans: **NumPy** is a scientific computing library for python.\n",
        "\n",
        "Support large number of data in the form of multi-dimensional array and matrix.\n"
      ],
      "metadata": {
        "id": "wlIpjDYcdYZl"
      }
    },
    {
      "cell_type": "markdown",
      "source": [
        "### **NumPy Information**\n",
        "NumPy 2d Array(Metrix)\n",
        "\n",
        "NumPy 1d Array(Vector)\n",
        "\n",
        "***Extension:***\n",
        "\n",
        ".tsv(Tab)\n",
        "\n",
        ".csv(Comma)"
      ],
      "metadata": {
        "id": "gJobw4hoevCa"
      }
    },
    {
      "cell_type": "markdown",
      "source": [
        "### **NumPy Installation**\n",
        "\n",
        "pip install numpy"
      ],
      "metadata": {
        "id": "7JFfXIbYfdVr"
      }
    },
    {
      "cell_type": "code",
      "execution_count": 57,
      "metadata": {
        "id": "22OLkgytdFrI"
      },
      "outputs": [],
      "source": [
        "import numpy as np"
      ]
    },
    {
      "cell_type": "markdown",
      "source": [
        "### **NumPy Function**\n",
        "\n",
        "Type of variable: **type(arrayName)**\n",
        "\n",
        "Convert variable to boolean: **bool(var_name)**\n",
        "\n",
        "arange() : **np.araange(start, End, Range)**\n",
        "\n",
        "Linespace() : **np.linspace(start,End, line Space)**\n",
        "\n",
        "Changing array dimention: **array_Name.reshape(row,column)**\n",
        "\n",
        "Multidimentionl array to 1D array: **array_name.ravel()** or **array_name.flatten()**\n",
        "\n",
        "Make Transpose: **array_name.transpose()**\n",
        "or **array_name.T**\n",
        "\n",
        "To know Dimension of array: **arrayName.ndim**\n",
        "\n",
        "Size of array: **arrayName.size**\n",
        "\n",
        "Shape of array: **arrayName.shape**\n",
        "\n",
        "Data Type of array: **arrayName.dtype**\n",
        "\n",
        "Creating Ones Matrix: **np.ones((row,colunm), dtype = int/float/bool/str)**\n",
        "\n",
        "Creating Zeros Matrix: **np.zeros((row,colunm), dtype = int/float/bool/str)**\n",
        "\n"
      ],
      "metadata": {
        "id": "6KkD1khnkEe6"
      }
    },
    {
      "cell_type": "markdown",
      "source": [
        "### **Mathematic Operation Using NumPy**\n",
        "\n",
        "Matrix Addition: **np.add(array1_name, arrar2_name)**\n",
        "\n",
        "Matrix Subtraction: **np.subsruct(array1_name , arrar2_name)**\n",
        "\n",
        "Matrix Devision: **np.devide(array1_name , arrar2_name)**\n",
        "\n",
        "Matrix Multiplication: **array1_name.dot(arrar2_name)**\n",
        "\n",
        "\n",
        "***Maximum***\n",
        "\n",
        "\n",
        "Find Maximum value of array: **array_name.max()**\n",
        "\n",
        "Find Maximum value index of array: **array_name.argmax()**\n",
        "\n",
        "Find Maximum value  of a column: **array_name.max(axis = 0)**\n",
        "\n",
        "Find Maximum value  of a row: **array_name.max(axis = 1)**\n",
        "\n",
        "***Minimum***\n",
        "\n",
        "\n",
        "Find Minimum value of array: **array_name.min()**\n",
        "\n",
        "Find Minimum value index of array: **array_name.argmin()**\n",
        "\n",
        "Find Minimum value  of a column: **array_name.min(axis = 0)**\n",
        "\n",
        "Find Minimum value  of a row: **array_name.min(axis = 1)**\n",
        "\n",
        "***Sum***\n",
        "\n",
        "Find Sum of all element in array: **np.sum(array_name)**\n",
        "\n",
        "Sum of a Column in a matrix:**np.sum(a1, axis = 0)**\n",
        "\n",
        "Sum of a Row in a matrix: **np.sum(a1, axis = 1)**\n",
        "\n",
        "***Others***\n",
        "\n",
        "Find Matrix Average: **np.mean(array_name)**\n",
        "\n",
        "Find Matrix Square Root: **np.sqrt(array_name)**\n",
        "\n",
        "Find Matrix Standerd Deviation: **np.std(array_name)**\n",
        "\n",
        "Find Exponential: **np.exp(array_name)**\n",
        "\n",
        "Find Logarithm: **np.log(array_name)**\n",
        "\n",
        "Find 10 base Logarithm: **np.log10(array_name)**"
      ],
      "metadata": {
        "id": "MuY2Kod4m6v6"
      }
    },
    {
      "cell_type": "markdown",
      "source": [
        "### **Create 1D Array**"
      ],
      "metadata": {
        "id": "7GCH2Uqehasw"
      }
    },
    {
      "cell_type": "code",
      "source": [
        "array_1d = np.array([1,2,3,4])\n",
        "print(array_1d)"
      ],
      "metadata": {
        "colab": {
          "base_uri": "https://localhost:8080/"
        },
        "id": "xoxN3inugKm-",
        "outputId": "d10f74f1-1eac-4337-daa4-7b953fd9411c"
      },
      "execution_count": 58,
      "outputs": [
        {
          "output_type": "stream",
          "name": "stdout",
          "text": [
            "[1 2 3 4]\n"
          ]
        }
      ]
    },
    {
      "cell_type": "code",
      "source": [
        "# To know The type of variable: type()\n",
        "type(array_1d)"
      ],
      "metadata": {
        "colab": {
          "base_uri": "https://localhost:8080/"
        },
        "id": "5IIOS0auglmk",
        "outputId": "882394a9-6b55-45d3-8809-91b4773aa083"
      },
      "execution_count": 59,
      "outputs": [
        {
          "output_type": "execute_result",
          "data": {
            "text/plain": [
              "numpy.ndarray"
            ]
          },
          "metadata": {},
          "execution_count": 59
        }
      ]
    },
    {
      "cell_type": "code",
      "source": [
        "# To know The dimension of array: arrayName.ndim\n",
        "array_1d.ndim"
      ],
      "metadata": {
        "colab": {
          "base_uri": "https://localhost:8080/"
        },
        "id": "M0-TbrQZgram",
        "outputId": "84f02909-fdc2-4ca6-8d63-da1b22ea698a"
      },
      "execution_count": 60,
      "outputs": [
        {
          "output_type": "execute_result",
          "data": {
            "text/plain": [
              "1"
            ]
          },
          "metadata": {},
          "execution_count": 60
        }
      ]
    },
    {
      "cell_type": "markdown",
      "source": [
        "### **Creating 2D Array**"
      ],
      "metadata": {
        "id": "3AcgbhjUhp60"
      }
    },
    {
      "cell_type": "code",
      "source": [
        "array_2d = np.array([[1,2,3,4],[5,6,7,8]])\n",
        "print(array_2d)\n"
      ],
      "metadata": {
        "colab": {
          "base_uri": "https://localhost:8080/"
        },
        "id": "Jj9itZ72hRIv",
        "outputId": "fcf61174-4c63-4ae8-9d8e-6fa1a62500a3"
      },
      "execution_count": 61,
      "outputs": [
        {
          "output_type": "stream",
          "name": "stdout",
          "text": [
            "[[1 2 3 4]\n",
            " [5 6 7 8]]\n"
          ]
        }
      ]
    },
    {
      "cell_type": "code",
      "source": [
        "# To know The size of array: arrayName.size\n",
        "array_2d.size"
      ],
      "metadata": {
        "colab": {
          "base_uri": "https://localhost:8080/"
        },
        "id": "pDpkaP1rjmko",
        "outputId": "1409e6ba-8a1a-4fa8-b08f-aac889b61b9f"
      },
      "execution_count": 62,
      "outputs": [
        {
          "output_type": "execute_result",
          "data": {
            "text/plain": [
              "8"
            ]
          },
          "metadata": {},
          "execution_count": 62
        }
      ]
    },
    {
      "cell_type": "code",
      "source": [
        "# To know The shape of array: arrayName.shape\n",
        "#(Row, Colunm)\n",
        "array_2d.shape"
      ],
      "metadata": {
        "colab": {
          "base_uri": "https://localhost:8080/"
        },
        "id": "bBXsDCNpjr84",
        "outputId": "3c1b9311-dfa2-4e52-bc90-0c19b9500195"
      },
      "execution_count": 63,
      "outputs": [
        {
          "output_type": "execute_result",
          "data": {
            "text/plain": [
              "(2, 4)"
            ]
          },
          "metadata": {},
          "execution_count": 63
        }
      ]
    },
    {
      "cell_type": "code",
      "source": [
        "# To know The Data Type of array: arrayName.dtype\n",
        "array_2d.dtype"
      ],
      "metadata": {
        "colab": {
          "base_uri": "https://localhost:8080/"
        },
        "id": "BEIfLjuklh6W",
        "outputId": "96988bda-d281-4f11-89b0-32e381a0c15b"
      },
      "execution_count": 64,
      "outputs": [
        {
          "output_type": "execute_result",
          "data": {
            "text/plain": [
              "dtype('int64')"
            ]
          },
          "metadata": {},
          "execution_count": 64
        }
      ]
    },
    {
      "cell_type": "markdown",
      "source": [
        "### **Creating One's Matrix**"
      ],
      "metadata": {
        "id": "KmIjMVDemyfZ"
      }
    },
    {
      "cell_type": "code",
      "source": [
        "matrix_1s = np.array([[1,1,1],[1,1,1],[1,1,1]])\n",
        "print(matrix_1s)\n"
      ],
      "metadata": {
        "colab": {
          "base_uri": "https://localhost:8080/"
        },
        "id": "0LRdU8NUm7hy",
        "outputId": "6e8a28c6-4e39-41b9-a426-ea6b94162fa9"
      },
      "execution_count": 65,
      "outputs": [
        {
          "output_type": "stream",
          "name": "stdout",
          "text": [
            "[[1 1 1]\n",
            " [1 1 1]\n",
            " [1 1 1]]\n"
          ]
        }
      ]
    },
    {
      "cell_type": "code",
      "source": [
        "ones_matrix = np.ones((2,3), dtype = int)\n",
        "print(ones_matrix)"
      ],
      "metadata": {
        "colab": {
          "base_uri": "https://localhost:8080/"
        },
        "id": "Y_-CEGMWnYly",
        "outputId": "c29ff80a-f451-47b6-8c9b-7156e96a93d1"
      },
      "execution_count": 66,
      "outputs": [
        {
          "output_type": "stream",
          "name": "stdout",
          "text": [
            "[[1 1 1]\n",
            " [1 1 1]]\n"
          ]
        }
      ]
    },
    {
      "cell_type": "markdown",
      "source": [
        "### **Creating Zero's Matrix**"
      ],
      "metadata": {
        "id": "IOsQqqEvpPAJ"
      }
    },
    {
      "cell_type": "code",
      "source": [
        "Zeros_matrix = np.zeros((3,4), dtype = bool)\n",
        "print(Zeros_matrix)"
      ],
      "metadata": {
        "colab": {
          "base_uri": "https://localhost:8080/"
        },
        "id": "P-X1sQWNpRJi",
        "outputId": "332129c1-e3dc-4c5b-a490-7b057696a64b"
      },
      "execution_count": 67,
      "outputs": [
        {
          "output_type": "stream",
          "name": "stdout",
          "text": [
            "[[False False False False]\n",
            " [False False False False]\n",
            " [False False False False]]\n"
          ]
        }
      ]
    },
    {
      "cell_type": "code",
      "source": [
        "Zeros_matrix = np.zeros((3,4), dtype = str)\n",
        "print(Zeros_matrix)"
      ],
      "metadata": {
        "colab": {
          "base_uri": "https://localhost:8080/"
        },
        "id": "HhIPz93iqMUo",
        "outputId": "97a347a4-29b3-4e63-a17f-908fa66d408c"
      },
      "execution_count": 68,
      "outputs": [
        {
          "output_type": "stream",
          "name": "stdout",
          "text": [
            "[['' '' '' '']\n",
            " ['' '' '' '']\n",
            " ['' '' '' '']]\n"
          ]
        }
      ]
    },
    {
      "cell_type": "code",
      "source": [
        "#Convert string to boolean\n",
        "empty_string = ''\n",
        "print(bool(empty_string))\n"
      ],
      "metadata": {
        "colab": {
          "base_uri": "https://localhost:8080/"
        },
        "id": "cP768yIPrCkN",
        "outputId": "e6466a8c-d0c0-4a18-928d-f46f4a32c3c7"
      },
      "execution_count": 69,
      "outputs": [
        {
          "output_type": "stream",
          "name": "stdout",
          "text": [
            "False\n"
          ]
        }
      ]
    },
    {
      "cell_type": "markdown",
      "source": [
        "### **Create Empty Matrix**"
      ],
      "metadata": {
        "id": "0PVFeYUBui68"
      }
    },
    {
      "cell_type": "code",
      "source": [
        "# Expty matrix always show random Values\n",
        "empty_matrix = np.empty((3,3))\n",
        "print(empty_matrix)"
      ],
      "metadata": {
        "colab": {
          "base_uri": "https://localhost:8080/"
        },
        "id": "My14iGNysRjV",
        "outputId": "74fbf66b-cbaf-4363-9fca-b0c07a327f32"
      },
      "execution_count": 70,
      "outputs": [
        {
          "output_type": "stream",
          "name": "stdout",
          "text": [
            "[[5.e-324 5.e-324 5.e-324]\n",
            " [5.e-324 5.e-324 5.e-324]\n",
            " [5.e-324 5.e-324 5.e-324]]\n"
          ]
        }
      ]
    },
    {
      "cell_type": "markdown",
      "source": [
        "### **arrange()**\n",
        "\n",
        "np.araange(start, End, Range)"
      ],
      "metadata": {
        "id": "r13i_Un8_6jg"
      }
    },
    {
      "cell_type": "code",
      "source": [
        "#arange() : np.araange(start, End)\n",
        "arr_1d = np.arange(1,13)\n",
        "print(arr_1d)"
      ],
      "metadata": {
        "colab": {
          "base_uri": "https://localhost:8080/"
        },
        "id": "P7NGtBHnAT2Y",
        "outputId": "01fad152-49e5-424a-ca94-e71c05757acf"
      },
      "execution_count": 71,
      "outputs": [
        {
          "output_type": "stream",
          "name": "stdout",
          "text": [
            "[ 1  2  3  4  5  6  7  8  9 10 11 12]\n"
          ]
        }
      ]
    },
    {
      "cell_type": "code",
      "source": [
        "#arange() : np.araange(start, End, Range)\n",
        "even = np.arange(2,13,2)\n",
        "print(even)"
      ],
      "metadata": {
        "colab": {
          "base_uri": "https://localhost:8080/"
        },
        "id": "QS95jUomHHVk",
        "outputId": "01810010-bbeb-4a6c-8e1a-2c54bfd5a07c"
      },
      "execution_count": 72,
      "outputs": [
        {
          "output_type": "stream",
          "name": "stdout",
          "text": [
            "[ 2  4  6  8 10 12]\n"
          ]
        }
      ]
    },
    {
      "cell_type": "markdown",
      "source": [
        "### **linespace()**"
      ],
      "metadata": {
        "id": "EFo91hZOA_9o"
      }
    },
    {
      "cell_type": "code",
      "source": [
        "#linespace() : np.linspace(start,End, line Space)\n",
        "ar = np.linspace(1,10,3)\n",
        "print(ar)"
      ],
      "metadata": {
        "colab": {
          "base_uri": "https://localhost:8080/"
        },
        "id": "ksFvYNXZBPgU",
        "outputId": "de8dfddd-98b9-4559-b25f-48a3d5dd017c"
      },
      "execution_count": 73,
      "outputs": [
        {
          "output_type": "stream",
          "name": "stdout",
          "text": [
            "[ 1.   5.5 10. ]\n"
          ]
        }
      ]
    },
    {
      "cell_type": "markdown",
      "source": [
        "### **reshape()**"
      ],
      "metadata": {
        "id": "CN0gcrs-FExC"
      }
    },
    {
      "cell_type": "code",
      "source": [
        "#Changing array dimention: array_Name.reshape(row,column)\n",
        "arr_2d = arr_1d.reshape(3,4)\n",
        "print(arr_2d)"
      ],
      "metadata": {
        "colab": {
          "base_uri": "https://localhost:8080/"
        },
        "id": "pQZ7yC4OE8RB",
        "outputId": "2de76c42-2ec2-4004-9a28-3ffce29fce39"
      },
      "execution_count": 74,
      "outputs": [
        {
          "output_type": "stream",
          "name": "stdout",
          "text": [
            "[[ 1  2  3  4]\n",
            " [ 5  6  7  8]\n",
            " [ 9 10 11 12]]\n"
          ]
        }
      ]
    },
    {
      "cell_type": "code",
      "source": [
        "arr_3d = arr_1d.reshape(2,3,2)\n",
        "print(arr_3d)"
      ],
      "metadata": {
        "colab": {
          "base_uri": "https://localhost:8080/"
        },
        "id": "oVOlxZtzJYpb",
        "outputId": "bc51e5b2-b42e-4194-d75b-061e44023005"
      },
      "execution_count": 75,
      "outputs": [
        {
          "output_type": "stream",
          "name": "stdout",
          "text": [
            "[[[ 1  2]\n",
            "  [ 3  4]\n",
            "  [ 5  6]]\n",
            "\n",
            " [[ 7  8]\n",
            "  [ 9 10]\n",
            "  [11 12]]]\n"
          ]
        }
      ]
    },
    {
      "cell_type": "markdown",
      "source": [
        "### **Converting Multidimentionl array to 1D array: ravel()**"
      ],
      "metadata": {
        "id": "gg1XXUfyKeZY"
      }
    },
    {
      "cell_type": "code",
      "source": [
        "arr_3d.ravel()"
      ],
      "metadata": {
        "colab": {
          "base_uri": "https://localhost:8080/"
        },
        "id": "EaPOHSvTK5KY",
        "outputId": "d41db52c-9129-4ef4-9be5-6d2eeea0bd59"
      },
      "execution_count": 76,
      "outputs": [
        {
          "output_type": "execute_result",
          "data": {
            "text/plain": [
              "array([ 1,  2,  3,  4,  5,  6,  7,  8,  9, 10, 11, 12])"
            ]
          },
          "metadata": {},
          "execution_count": 76
        }
      ]
    },
    {
      "cell_type": "code",
      "source": [
        "arr_3d.flatten()"
      ],
      "metadata": {
        "colab": {
          "base_uri": "https://localhost:8080/"
        },
        "id": "0W7b7JWZLaIx",
        "outputId": "3c23d905-6ec2-4c0b-cddf-309f30174a9a"
      },
      "execution_count": 77,
      "outputs": [
        {
          "output_type": "execute_result",
          "data": {
            "text/plain": [
              "array([ 1,  2,  3,  4,  5,  6,  7,  8,  9, 10, 11, 12])"
            ]
          },
          "metadata": {},
          "execution_count": 77
        }
      ]
    },
    {
      "cell_type": "markdown",
      "source": [
        "### **transpose()**"
      ],
      "metadata": {
        "id": "mF9HdxcgLZkP"
      }
    },
    {
      "cell_type": "code",
      "source": [
        "arr_2d.transpose()"
      ],
      "metadata": {
        "colab": {
          "base_uri": "https://localhost:8080/"
        },
        "id": "XVtyn76tMRqO",
        "outputId": "d39b32cf-7647-4517-c49e-12d101bf0214"
      },
      "execution_count": 78,
      "outputs": [
        {
          "output_type": "execute_result",
          "data": {
            "text/plain": [
              "array([[ 1,  5,  9],\n",
              "       [ 2,  6, 10],\n",
              "       [ 3,  7, 11],\n",
              "       [ 4,  8, 12]])"
            ]
          },
          "metadata": {},
          "execution_count": 78
        }
      ]
    },
    {
      "cell_type": "code",
      "source": [
        "arr_2d.T"
      ],
      "metadata": {
        "colab": {
          "base_uri": "https://localhost:8080/"
        },
        "id": "THcgckzhM3oI",
        "outputId": "2e1f0fbc-2fc6-491f-a31b-55941d92c90b"
      },
      "execution_count": 79,
      "outputs": [
        {
          "output_type": "execute_result",
          "data": {
            "text/plain": [
              "array([[ 1,  5,  9],\n",
              "       [ 2,  6, 10],\n",
              "       [ 3,  7, 11],\n",
              "       [ 4,  8, 12]])"
            ]
          },
          "metadata": {},
          "execution_count": 79
        }
      ]
    },
    {
      "cell_type": "markdown",
      "source": [
        "### Mathematic Operation Using NumPy"
      ],
      "metadata": {
        "id": "lckCz8d7i_Ws"
      }
    },
    {
      "cell_type": "code",
      "source": [
        "a1 = np.arange(1,10).reshape(3,3)\n",
        "a2 = np.arange(1,10).reshape(3,3)\n",
        "print(a1)\n",
        "print(a2)"
      ],
      "metadata": {
        "id": "7j4fxir_jFVT",
        "outputId": "058b2185-3d91-4386-8715-1fecc4924659",
        "colab": {
          "base_uri": "https://localhost:8080/"
        }
      },
      "execution_count": 80,
      "outputs": [
        {
          "output_type": "stream",
          "name": "stdout",
          "text": [
            "[[1 2 3]\n",
            " [4 5 6]\n",
            " [7 8 9]]\n",
            "[[1 2 3]\n",
            " [4 5 6]\n",
            " [7 8 9]]\n"
          ]
        }
      ]
    },
    {
      "cell_type": "markdown",
      "source": [
        "### Matrix Addition"
      ],
      "metadata": {
        "id": "rnTvqQsAjxQ4"
      }
    },
    {
      "cell_type": "code",
      "source": [
        "a1 + a2"
      ],
      "metadata": {
        "id": "Tzc7x47LjrQy",
        "outputId": "c36a65bb-27de-4537-8830-0759999f78ce",
        "colab": {
          "base_uri": "https://localhost:8080/"
        }
      },
      "execution_count": 81,
      "outputs": [
        {
          "output_type": "execute_result",
          "data": {
            "text/plain": [
              "array([[ 2,  4,  6],\n",
              "       [ 8, 10, 12],\n",
              "       [14, 16, 18]])"
            ]
          },
          "metadata": {},
          "execution_count": 81
        }
      ]
    },
    {
      "cell_type": "code",
      "source": [
        "np.add(a1,a2)"
      ],
      "metadata": {
        "id": "JvdiXfhIj8g8",
        "outputId": "da71f5dd-822c-425c-cd41-d81ab288dc16",
        "colab": {
          "base_uri": "https://localhost:8080/"
        }
      },
      "execution_count": 82,
      "outputs": [
        {
          "output_type": "execute_result",
          "data": {
            "text/plain": [
              "array([[ 2,  4,  6],\n",
              "       [ 8, 10, 12],\n",
              "       [14, 16, 18]])"
            ]
          },
          "metadata": {},
          "execution_count": 82
        }
      ]
    },
    {
      "cell_type": "markdown",
      "source": [
        "### Matrix Subtraction"
      ],
      "metadata": {
        "id": "Uqzg_ND5kZ6O"
      }
    },
    {
      "cell_type": "code",
      "source": [
        "a1 - a2"
      ],
      "metadata": {
        "id": "IdE6rnXZk19f",
        "outputId": "a76e0f80-234c-43c0-c001-f29617441bdd",
        "colab": {
          "base_uri": "https://localhost:8080/"
        }
      },
      "execution_count": 83,
      "outputs": [
        {
          "output_type": "execute_result",
          "data": {
            "text/plain": [
              "array([[0, 0, 0],\n",
              "       [0, 0, 0],\n",
              "       [0, 0, 0]])"
            ]
          },
          "metadata": {},
          "execution_count": 83
        }
      ]
    },
    {
      "cell_type": "code",
      "source": [
        "np.subtract(a1,a2)"
      ],
      "metadata": {
        "id": "wdn39K4rkdC2",
        "outputId": "83e939e3-56fd-4e6a-8e22-c276a0920f1d",
        "colab": {
          "base_uri": "https://localhost:8080/"
        }
      },
      "execution_count": 84,
      "outputs": [
        {
          "output_type": "execute_result",
          "data": {
            "text/plain": [
              "array([[0, 0, 0],\n",
              "       [0, 0, 0],\n",
              "       [0, 0, 0]])"
            ]
          },
          "metadata": {},
          "execution_count": 84
        }
      ]
    },
    {
      "cell_type": "markdown",
      "source": [
        "### Matrix Devision"
      ],
      "metadata": {
        "id": "1YZQb93uk6ng"
      }
    },
    {
      "cell_type": "code",
      "source": [
        "a1 / a2"
      ],
      "metadata": {
        "id": "LYpgRiTzkg0C",
        "outputId": "985dce01-46e2-43b3-9d5a-6c89ce16ead3",
        "colab": {
          "base_uri": "https://localhost:8080/"
        }
      },
      "execution_count": 85,
      "outputs": [
        {
          "output_type": "execute_result",
          "data": {
            "text/plain": [
              "array([[1., 1., 1.],\n",
              "       [1., 1., 1.],\n",
              "       [1., 1., 1.]])"
            ]
          },
          "metadata": {},
          "execution_count": 85
        }
      ]
    },
    {
      "cell_type": "code",
      "source": [
        "np.divide(a1,a2)"
      ],
      "metadata": {
        "id": "fV3DK0xxk_WT",
        "outputId": "8d1ddb48-5cdf-47b3-edd5-c62b31d90535",
        "colab": {
          "base_uri": "https://localhost:8080/"
        }
      },
      "execution_count": 86,
      "outputs": [
        {
          "output_type": "execute_result",
          "data": {
            "text/plain": [
              "array([[1., 1., 1.],\n",
              "       [1., 1., 1.],\n",
              "       [1., 1., 1.]])"
            ]
          },
          "metadata": {},
          "execution_count": 86
        }
      ]
    },
    {
      "cell_type": "markdown",
      "source": [
        "### Matrix Multiplication"
      ],
      "metadata": {
        "id": "vq7hw0YslMHP"
      }
    },
    {
      "cell_type": "code",
      "source": [
        "#Multiply with Index wise\n",
        "a1 * a2"
      ],
      "metadata": {
        "id": "k4vqCpvplUJl",
        "outputId": "25d2caa6-df4b-400d-de51-fa188263b366",
        "colab": {
          "base_uri": "https://localhost:8080/"
        }
      },
      "execution_count": 87,
      "outputs": [
        {
          "output_type": "execute_result",
          "data": {
            "text/plain": [
              "array([[ 1,  4,  9],\n",
              "       [16, 25, 36],\n",
              "       [49, 64, 81]])"
            ]
          },
          "metadata": {},
          "execution_count": 87
        }
      ]
    },
    {
      "cell_type": "code",
      "source": [
        "#Multiply with Index wise\n",
        "np.multiply(a1,a2)"
      ],
      "metadata": {
        "id": "L5LTk9cPlW6A",
        "outputId": "235cdedd-4b42-4723-85e7-c198117aab7d",
        "colab": {
          "base_uri": "https://localhost:8080/"
        }
      },
      "execution_count": 88,
      "outputs": [
        {
          "output_type": "execute_result",
          "data": {
            "text/plain": [
              "array([[ 1,  4,  9],\n",
              "       [16, 25, 36],\n",
              "       [49, 64, 81]])"
            ]
          },
          "metadata": {},
          "execution_count": 88
        }
      ]
    },
    {
      "cell_type": "code",
      "source": [
        "#Multiply with element wise(1st Row, 2nd column...)\n",
        "a1 @ a2"
      ],
      "metadata": {
        "id": "QUH13cydmHkD",
        "outputId": "11503a89-c828-4c41-c29d-be2420c3d4f1",
        "colab": {
          "base_uri": "https://localhost:8080/"
        }
      },
      "execution_count": 89,
      "outputs": [
        {
          "output_type": "execute_result",
          "data": {
            "text/plain": [
              "array([[ 30,  36,  42],\n",
              "       [ 66,  81,  96],\n",
              "       [102, 126, 150]])"
            ]
          },
          "metadata": {},
          "execution_count": 89
        }
      ]
    },
    {
      "cell_type": "code",
      "source": [
        "a1.dot(a2)"
      ],
      "metadata": {
        "id": "VyZVe83rmXAC",
        "outputId": "d273adf5-0a2e-48f6-f6f1-af13902e9bc2",
        "colab": {
          "base_uri": "https://localhost:8080/"
        }
      },
      "execution_count": 90,
      "outputs": [
        {
          "output_type": "execute_result",
          "data": {
            "text/plain": [
              "array([[ 30,  36,  42],\n",
              "       [ 66,  81,  96],\n",
              "       [102, 126, 150]])"
            ]
          },
          "metadata": {},
          "execution_count": 90
        }
      ]
    },
    {
      "cell_type": "markdown",
      "source": [
        "### **Find Maximum**"
      ],
      "metadata": {
        "id": "N7m7t1YSnjqm"
      }
    },
    {
      "cell_type": "code",
      "source": [
        "#Maximum value in array\n",
        "a1.max()"
      ],
      "metadata": {
        "id": "XQrVouShnthd",
        "outputId": "ed56f9de-d3ff-4a22-9ebd-0b67fff64f7f",
        "colab": {
          "base_uri": "https://localhost:8080/"
        }
      },
      "execution_count": 91,
      "outputs": [
        {
          "output_type": "execute_result",
          "data": {
            "text/plain": [
              "9"
            ]
          },
          "metadata": {},
          "execution_count": 91
        }
      ]
    },
    {
      "cell_type": "code",
      "source": [
        "#Maximum value index in array\n",
        "a1.argmax()"
      ],
      "metadata": {
        "id": "9O8PGSKEn0kZ",
        "outputId": "7c297d02-4ab2-4000-f0a9-171c3d7aadaa",
        "colab": {
          "base_uri": "https://localhost:8080/"
        }
      },
      "execution_count": 92,
      "outputs": [
        {
          "output_type": "execute_result",
          "data": {
            "text/plain": [
              "8"
            ]
          },
          "metadata": {},
          "execution_count": 92
        }
      ]
    },
    {
      "cell_type": "code",
      "source": [
        "#Maximum value of a column\n",
        "a1.max(axis = 0)"
      ],
      "metadata": {
        "id": "aabqwjrooISN",
        "outputId": "efef9908-4f78-4479-9f1a-b29dc4407510",
        "colab": {
          "base_uri": "https://localhost:8080/"
        }
      },
      "execution_count": 93,
      "outputs": [
        {
          "output_type": "execute_result",
          "data": {
            "text/plain": [
              "array([7, 8, 9])"
            ]
          },
          "metadata": {},
          "execution_count": 93
        }
      ]
    },
    {
      "cell_type": "code",
      "source": [
        "#Maximum value of a row\n",
        "a1.max(axis = 1)"
      ],
      "metadata": {
        "id": "inVJrVgkogaa",
        "outputId": "d905ce31-b292-4f77-8b35-5d469d08b296",
        "colab": {
          "base_uri": "https://localhost:8080/"
        }
      },
      "execution_count": 94,
      "outputs": [
        {
          "output_type": "execute_result",
          "data": {
            "text/plain": [
              "array([3, 6, 9])"
            ]
          },
          "metadata": {},
          "execution_count": 94
        }
      ]
    },
    {
      "cell_type": "markdown",
      "source": [
        "### **Find Minimum**"
      ],
      "metadata": {
        "id": "FER5cRIdoyE6"
      }
    },
    {
      "cell_type": "code",
      "source": [
        "#Minimum value in array\n",
        "a1.min()"
      ],
      "metadata": {
        "id": "IXJ-Ta8Lo2HA",
        "outputId": "119c8a31-0040-453b-d117-67c687f5f2a5",
        "colab": {
          "base_uri": "https://localhost:8080/"
        }
      },
      "execution_count": 95,
      "outputs": [
        {
          "output_type": "execute_result",
          "data": {
            "text/plain": [
              "1"
            ]
          },
          "metadata": {},
          "execution_count": 95
        }
      ]
    },
    {
      "cell_type": "code",
      "source": [
        "##Minimum value index in array\n",
        "a1.argmin()"
      ],
      "metadata": {
        "id": "HlaY6sRXo78S",
        "outputId": "8120ac32-718e-4e57-c2e6-df3bddb133d8",
        "colab": {
          "base_uri": "https://localhost:8080/"
        }
      },
      "execution_count": 96,
      "outputs": [
        {
          "output_type": "execute_result",
          "data": {
            "text/plain": [
              "0"
            ]
          },
          "metadata": {},
          "execution_count": 96
        }
      ]
    },
    {
      "cell_type": "code",
      "source": [
        "#Minimum value of a column\n",
        "a1.min(axis = 0)"
      ],
      "metadata": {
        "id": "ukwS2tRvpIxi",
        "outputId": "4e8e2f4b-1fe7-4654-e9cc-d8726c8c9b55",
        "colab": {
          "base_uri": "https://localhost:8080/"
        }
      },
      "execution_count": 97,
      "outputs": [
        {
          "output_type": "execute_result",
          "data": {
            "text/plain": [
              "array([1, 2, 3])"
            ]
          },
          "metadata": {},
          "execution_count": 97
        }
      ]
    },
    {
      "cell_type": "code",
      "source": [
        "#Minimum value of a column\n",
        "a1.min(axis = 1)"
      ],
      "metadata": {
        "id": "3oKrElBppNHv",
        "outputId": "cda7b8dc-8701-4b83-e597-87791656d984",
        "colab": {
          "base_uri": "https://localhost:8080/"
        }
      },
      "execution_count": 98,
      "outputs": [
        {
          "output_type": "execute_result",
          "data": {
            "text/plain": [
              "array([1, 4, 7])"
            ]
          },
          "metadata": {},
          "execution_count": 98
        }
      ]
    },
    {
      "cell_type": "markdown",
      "source": [
        "### **Matrix All element Sum**"
      ],
      "metadata": {
        "id": "6aqTH3eqpf7o"
      }
    },
    {
      "cell_type": "code",
      "source": [
        "#Sum of all element in a matrix\n",
        "np.sum(a1)"
      ],
      "metadata": {
        "id": "sZxDcL7BpbyF",
        "outputId": "7539e246-a8c5-4f39-cb94-2a51a5d23eba",
        "colab": {
          "base_uri": "https://localhost:8080/"
        }
      },
      "execution_count": 99,
      "outputs": [
        {
          "output_type": "execute_result",
          "data": {
            "text/plain": [
              "45"
            ]
          },
          "metadata": {},
          "execution_count": 99
        }
      ]
    },
    {
      "cell_type": "code",
      "source": [
        "#Sum of a Column in a matrix\n",
        "np.sum(a1, axis = 0)"
      ],
      "metadata": {
        "id": "J-tj9te0p7dd",
        "outputId": "362ca600-7fb3-4773-8655-33efbc31619f",
        "colab": {
          "base_uri": "https://localhost:8080/"
        }
      },
      "execution_count": 100,
      "outputs": [
        {
          "output_type": "execute_result",
          "data": {
            "text/plain": [
              "array([12, 15, 18])"
            ]
          },
          "metadata": {},
          "execution_count": 100
        }
      ]
    },
    {
      "cell_type": "code",
      "source": [
        "#Sum of a Row in a matrix\n",
        "np.sum(a1, axis = 1)"
      ],
      "metadata": {
        "id": "X_BnPceoqGL6",
        "outputId": "c7d4e0ae-fd7e-4d45-995d-619f8e1573ee",
        "colab": {
          "base_uri": "https://localhost:8080/"
        }
      },
      "execution_count": 101,
      "outputs": [
        {
          "output_type": "execute_result",
          "data": {
            "text/plain": [
              "array([ 6, 15, 24])"
            ]
          },
          "metadata": {},
          "execution_count": 101
        }
      ]
    },
    {
      "cell_type": "markdown",
      "source": [
        "### **Marix Average**"
      ],
      "metadata": {
        "id": "HYHJ_WXpqPz_"
      }
    },
    {
      "cell_type": "code",
      "source": [
        "np.mean(a1)"
      ],
      "metadata": {
        "id": "Q_0QbnOwqTBW",
        "outputId": "e39031e4-3b40-402e-cd19-0cfb961362e6",
        "colab": {
          "base_uri": "https://localhost:8080/"
        }
      },
      "execution_count": 102,
      "outputs": [
        {
          "output_type": "execute_result",
          "data": {
            "text/plain": [
              "5.0"
            ]
          },
          "metadata": {},
          "execution_count": 102
        }
      ]
    },
    {
      "cell_type": "markdown",
      "source": [
        "### **Matrix Square Root find**"
      ],
      "metadata": {
        "id": "PszoBuaeqWrt"
      }
    },
    {
      "cell_type": "code",
      "source": [
        "np.sqrt(a1)"
      ],
      "metadata": {
        "id": "TWxICxISqdQg",
        "outputId": "3fd1e563-d584-425c-a91f-651bc2f24377",
        "colab": {
          "base_uri": "https://localhost:8080/"
        }
      },
      "execution_count": 103,
      "outputs": [
        {
          "output_type": "execute_result",
          "data": {
            "text/plain": [
              "array([[1.        , 1.41421356, 1.73205081],\n",
              "       [2.        , 2.23606798, 2.44948974],\n",
              "       [2.64575131, 2.82842712, 3.        ]])"
            ]
          },
          "metadata": {},
          "execution_count": 103
        }
      ]
    },
    {
      "cell_type": "markdown",
      "source": [
        "### **Find Standerd Devision**"
      ],
      "metadata": {
        "id": "t9mv_T4Kqlcu"
      }
    },
    {
      "cell_type": "code",
      "source": [
        "np.std(a1)"
      ],
      "metadata": {
        "id": "dA6878vBqzI5",
        "outputId": "19e8769a-ffb8-4f47-ea1c-244a74647640",
        "colab": {
          "base_uri": "https://localhost:8080/"
        }
      },
      "execution_count": 104,
      "outputs": [
        {
          "output_type": "execute_result",
          "data": {
            "text/plain": [
              "2.581988897471611"
            ]
          },
          "metadata": {},
          "execution_count": 104
        }
      ]
    },
    {
      "cell_type": "markdown",
      "source": [
        "### **Find Exponential**"
      ],
      "metadata": {
        "id": "tgYgwfCZrIrY"
      }
    },
    {
      "cell_type": "code",
      "source": [
        "np.exp(a1)"
      ],
      "metadata": {
        "id": "U1OWbpTeq7Qy",
        "outputId": "abe4e797-7402-48f8-816b-9bea5db56a61",
        "colab": {
          "base_uri": "https://localhost:8080/"
        }
      },
      "execution_count": 105,
      "outputs": [
        {
          "output_type": "execute_result",
          "data": {
            "text/plain": [
              "array([[2.71828183e+00, 7.38905610e+00, 2.00855369e+01],\n",
              "       [5.45981500e+01, 1.48413159e+02, 4.03428793e+02],\n",
              "       [1.09663316e+03, 2.98095799e+03, 8.10308393e+03]])"
            ]
          },
          "metadata": {},
          "execution_count": 105
        }
      ]
    },
    {
      "cell_type": "markdown",
      "source": [
        "### **Find Log**"
      ],
      "metadata": {
        "id": "E-LOlWhrrNaI"
      }
    },
    {
      "cell_type": "code",
      "source": [
        "np.log(a1)"
      ],
      "metadata": {
        "id": "lNCmA_4ZrBhQ",
        "outputId": "4a9997a7-8406-4b83-cef9-561ffe0bd641",
        "colab": {
          "base_uri": "https://localhost:8080/"
        }
      },
      "execution_count": 106,
      "outputs": [
        {
          "output_type": "execute_result",
          "data": {
            "text/plain": [
              "array([[0.        , 0.69314718, 1.09861229],\n",
              "       [1.38629436, 1.60943791, 1.79175947],\n",
              "       [1.94591015, 2.07944154, 2.19722458]])"
            ]
          },
          "metadata": {},
          "execution_count": 106
        }
      ]
    },
    {
      "cell_type": "code",
      "source": [
        "np.log10(a1)"
      ],
      "metadata": {
        "id": "clSHa-pMrEz1",
        "outputId": "1e7b78b4-b470-45fd-b036-de8961345e42",
        "colab": {
          "base_uri": "https://localhost:8080/"
        }
      },
      "execution_count": 107,
      "outputs": [
        {
          "output_type": "execute_result",
          "data": {
            "text/plain": [
              "array([[0.        , 0.30103   , 0.47712125],\n",
              "       [0.60205999, 0.69897   , 0.77815125],\n",
              "       [0.84509804, 0.90308999, 0.95424251]])"
            ]
          },
          "metadata": {},
          "execution_count": 107
        }
      ]
    }
  ]
}