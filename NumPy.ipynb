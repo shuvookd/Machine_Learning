{
  "nbformat": 4,
  "nbformat_minor": 0,
  "metadata": {
    "colab": {
      "provenance": [],
      "authorship_tag": "ABX9TyOM80QlzvzSHlekvSzQERj9",
      "include_colab_link": true
    },
    "kernelspec": {
      "name": "python3",
      "display_name": "Python 3"
    },
    "language_info": {
      "name": "python"
    }
  },
  "cells": [
    {
      "cell_type": "markdown",
      "metadata": {
        "id": "view-in-github",
        "colab_type": "text"
      },
      "source": [
        "<a href=\"https://colab.research.google.com/github/shuvookd/Machine_Learning/blob/main/NumPy.ipynb\" target=\"_parent\"><img src=\"https://colab.research.google.com/assets/colab-badge.svg\" alt=\"Open In Colab\"/></a>"
      ]
    },
    {
      "cell_type": "markdown",
      "source": [
        "### **What is Numpy?**\n",
        "\n",
        "Ans: **NumPy** is a scientific computing library for python.\n",
        "\n",
        "Support large number of data in the form of multi-dimensional array and matrix.\n"
      ],
      "metadata": {
        "id": "wlIpjDYcdYZl"
      }
    },
    {
      "cell_type": "markdown",
      "source": [
        "### **NumPy Information**\n",
        "NumPy 2d Array(Metrix)\n",
        "\n",
        "NumPy 1d Array(Vector)\n",
        "\n",
        "***Extension:***\n",
        "\n",
        ".tsv(Tab)\n",
        "\n",
        ".csv(Comma)"
      ],
      "metadata": {
        "id": "gJobw4hoevCa"
      }
    },
    {
      "cell_type": "markdown",
      "source": [
        "### **NumPy Installation**\n",
        "\n",
        "pip install numpy"
      ],
      "metadata": {
        "id": "7JFfXIbYfdVr"
      }
    },
    {
      "cell_type": "code",
      "execution_count": 146,
      "metadata": {
        "id": "22OLkgytdFrI"
      },
      "outputs": [],
      "source": [
        "import numpy as np"
      ]
    },
    {
      "cell_type": "markdown",
      "source": [
        "### NumPy Function\n",
        "\n",
        "Type of variable: **type(arrayName)**\n",
        "\n",
        "Convert variable to boolean: **bool(var_name)**\n",
        "\n",
        "arange() : **np.araange(start, End, Range)**\n",
        "\n",
        "Linespace() : **np.linspace(start,End, line Space)**\n",
        "\n",
        "Changing array dimention: **array_Name.reshape(row,column)**\n",
        "\n",
        "Multidimentionl array to 1D array: **array_name.ravel()** or **array_name.flatten()**\n",
        "\n",
        "Make Transpose: **array_name.transpose()**\n",
        "or **array_name.T**\n",
        "\n",
        "To know Dimension of array: **arrayName.ndim**\n",
        "\n",
        "Size of array: **arrayName.size**\n",
        "\n",
        "Shape of array: **arrayName.shape**\n",
        "\n",
        "Data Type of array: **arrayName.dtype**\n",
        "\n",
        "Creating Ones Matrix: **np.ones((row,colunm), dtype = int/float/bool/str)**\n",
        "\n",
        "Creating Zeros Matrix: **np.zeros((row,colunm), dtype = int/float/bool/str)**\n"
      ],
      "metadata": {
        "id": "6KkD1khnkEe6"
      }
    },
    {
      "cell_type": "markdown",
      "source": [
        "### **Create 1D Array**"
      ],
      "metadata": {
        "id": "7GCH2Uqehasw"
      }
    },
    {
      "cell_type": "code",
      "source": [
        "array_1d = np.array([1,2,3,4])\n",
        "print(array_1d)"
      ],
      "metadata": {
        "colab": {
          "base_uri": "https://localhost:8080/"
        },
        "id": "xoxN3inugKm-",
        "outputId": "44476576-ddb2-433f-ed27-2ac361b8722f"
      },
      "execution_count": 147,
      "outputs": [
        {
          "output_type": "stream",
          "name": "stdout",
          "text": [
            "[1 2 3 4]\n"
          ]
        }
      ]
    },
    {
      "cell_type": "code",
      "source": [
        "# To know The type of variable: type()\n",
        "type(array_1d)"
      ],
      "metadata": {
        "colab": {
          "base_uri": "https://localhost:8080/"
        },
        "id": "5IIOS0auglmk",
        "outputId": "e9fbf2f2-231e-4f10-b3c5-a8c361a26bb1"
      },
      "execution_count": 148,
      "outputs": [
        {
          "output_type": "execute_result",
          "data": {
            "text/plain": [
              "numpy.ndarray"
            ]
          },
          "metadata": {},
          "execution_count": 148
        }
      ]
    },
    {
      "cell_type": "code",
      "source": [
        "# To know The dimension of array: arrayName.ndim\n",
        "array_1d.ndim"
      ],
      "metadata": {
        "colab": {
          "base_uri": "https://localhost:8080/"
        },
        "id": "M0-TbrQZgram",
        "outputId": "4da813f6-2904-49cd-b1e6-16fd183c1bff"
      },
      "execution_count": 149,
      "outputs": [
        {
          "output_type": "execute_result",
          "data": {
            "text/plain": [
              "1"
            ]
          },
          "metadata": {},
          "execution_count": 149
        }
      ]
    },
    {
      "cell_type": "markdown",
      "source": [
        "### **Creating 2D Array**"
      ],
      "metadata": {
        "id": "3AcgbhjUhp60"
      }
    },
    {
      "cell_type": "code",
      "source": [
        "array_2d = np.array([[1,2,3,4],[5,6,7,8]])\n",
        "print(array_2d)\n"
      ],
      "metadata": {
        "colab": {
          "base_uri": "https://localhost:8080/"
        },
        "id": "Jj9itZ72hRIv",
        "outputId": "daa03fbf-705d-48a6-f450-cc77fbbc4390"
      },
      "execution_count": 150,
      "outputs": [
        {
          "output_type": "stream",
          "name": "stdout",
          "text": [
            "[[1 2 3 4]\n",
            " [5 6 7 8]]\n"
          ]
        }
      ]
    },
    {
      "cell_type": "code",
      "source": [
        "# To know The size of array: arrayName.size\n",
        "array_2d.size"
      ],
      "metadata": {
        "colab": {
          "base_uri": "https://localhost:8080/"
        },
        "id": "pDpkaP1rjmko",
        "outputId": "edeb0df6-aa26-446c-ac54-afd60e075a39"
      },
      "execution_count": 151,
      "outputs": [
        {
          "output_type": "execute_result",
          "data": {
            "text/plain": [
              "8"
            ]
          },
          "metadata": {},
          "execution_count": 151
        }
      ]
    },
    {
      "cell_type": "code",
      "source": [
        "# To know The shape of array: arrayName.shape\n",
        "#(Row, Colunm)\n",
        "array_2d.shape"
      ],
      "metadata": {
        "colab": {
          "base_uri": "https://localhost:8080/"
        },
        "id": "bBXsDCNpjr84",
        "outputId": "9cda07ee-faa1-46f7-b033-18c99a16abbf"
      },
      "execution_count": 152,
      "outputs": [
        {
          "output_type": "execute_result",
          "data": {
            "text/plain": [
              "(2, 4)"
            ]
          },
          "metadata": {},
          "execution_count": 152
        }
      ]
    },
    {
      "cell_type": "code",
      "source": [
        "# To know The Data Type of array: arrayName.dtype\n",
        "array_2d.dtype"
      ],
      "metadata": {
        "colab": {
          "base_uri": "https://localhost:8080/"
        },
        "id": "BEIfLjuklh6W",
        "outputId": "c304a448-fb3a-4623-c4c7-194dcd55ceb7"
      },
      "execution_count": 153,
      "outputs": [
        {
          "output_type": "execute_result",
          "data": {
            "text/plain": [
              "dtype('int64')"
            ]
          },
          "metadata": {},
          "execution_count": 153
        }
      ]
    },
    {
      "cell_type": "markdown",
      "source": [
        "### **Creating One's Matrix**"
      ],
      "metadata": {
        "id": "KmIjMVDemyfZ"
      }
    },
    {
      "cell_type": "code",
      "source": [
        "matrix_1s = np.array([[1,1,1],[1,1,1],[1,1,1]])\n",
        "print(matrix_1s)\n"
      ],
      "metadata": {
        "colab": {
          "base_uri": "https://localhost:8080/"
        },
        "id": "0LRdU8NUm7hy",
        "outputId": "39aed428-6310-4b2c-b923-cad50de6f9a0"
      },
      "execution_count": 154,
      "outputs": [
        {
          "output_type": "stream",
          "name": "stdout",
          "text": [
            "[[1 1 1]\n",
            " [1 1 1]\n",
            " [1 1 1]]\n"
          ]
        }
      ]
    },
    {
      "cell_type": "code",
      "source": [
        "ones_matrix = np.ones((2,3), dtype = int)\n",
        "print(ones_matrix)"
      ],
      "metadata": {
        "colab": {
          "base_uri": "https://localhost:8080/"
        },
        "id": "Y_-CEGMWnYly",
        "outputId": "e05b0ef7-3b06-4f1a-e8f7-3f45c96c50df"
      },
      "execution_count": 155,
      "outputs": [
        {
          "output_type": "stream",
          "name": "stdout",
          "text": [
            "[[1 1 1]\n",
            " [1 1 1]]\n"
          ]
        }
      ]
    },
    {
      "cell_type": "markdown",
      "source": [
        "### **Creating Zero's Matrix**"
      ],
      "metadata": {
        "id": "IOsQqqEvpPAJ"
      }
    },
    {
      "cell_type": "code",
      "source": [
        "Zeros_matrix = np.zeros((3,4), dtype = bool)\n",
        "print(Zeros_matrix)"
      ],
      "metadata": {
        "colab": {
          "base_uri": "https://localhost:8080/"
        },
        "id": "P-X1sQWNpRJi",
        "outputId": "d387747e-a440-4a92-ed39-2ccf2084ab18"
      },
      "execution_count": 156,
      "outputs": [
        {
          "output_type": "stream",
          "name": "stdout",
          "text": [
            "[[False False False False]\n",
            " [False False False False]\n",
            " [False False False False]]\n"
          ]
        }
      ]
    },
    {
      "cell_type": "code",
      "source": [
        "Zeros_matrix = np.zeros((3,4), dtype = str)\n",
        "print(Zeros_matrix)"
      ],
      "metadata": {
        "colab": {
          "base_uri": "https://localhost:8080/"
        },
        "id": "HhIPz93iqMUo",
        "outputId": "635f7d97-8654-4b62-de4e-accc6f8fe8af"
      },
      "execution_count": 157,
      "outputs": [
        {
          "output_type": "stream",
          "name": "stdout",
          "text": [
            "[['' '' '' '']\n",
            " ['' '' '' '']\n",
            " ['' '' '' '']]\n"
          ]
        }
      ]
    },
    {
      "cell_type": "code",
      "source": [
        "#Convert string to boolean\n",
        "empty_string = ''\n",
        "print(bool(empty_string))\n"
      ],
      "metadata": {
        "colab": {
          "base_uri": "https://localhost:8080/"
        },
        "id": "cP768yIPrCkN",
        "outputId": "3544064d-e9b7-4979-e55f-58fd78c11449"
      },
      "execution_count": 158,
      "outputs": [
        {
          "output_type": "stream",
          "name": "stdout",
          "text": [
            "False\n"
          ]
        }
      ]
    },
    {
      "cell_type": "markdown",
      "source": [
        "### **Create Empty Matrix**"
      ],
      "metadata": {
        "id": "0PVFeYUBui68"
      }
    },
    {
      "cell_type": "code",
      "source": [
        "# Expty matrix always show random Values\n",
        "empty_matrix = np.empty((3,3))\n",
        "print(empty_matrix)"
      ],
      "metadata": {
        "colab": {
          "base_uri": "https://localhost:8080/"
        },
        "id": "My14iGNysRjV",
        "outputId": "5cb93c8f-119f-4c69-c4d0-a0628cdd5dc6"
      },
      "execution_count": 159,
      "outputs": [
        {
          "output_type": "stream",
          "name": "stdout",
          "text": [
            "[[5.e-324 5.e-324 5.e-324]\n",
            " [5.e-324 5.e-324 5.e-324]\n",
            " [5.e-324 5.e-324 5.e-324]]\n"
          ]
        }
      ]
    },
    {
      "cell_type": "markdown",
      "source": [
        "### **arrange()**\n",
        "\n",
        "np.araange(start, End, Range)"
      ],
      "metadata": {
        "id": "r13i_Un8_6jg"
      }
    },
    {
      "cell_type": "code",
      "source": [
        "#arange() : np.araange(start, End)\n",
        "arr_1d = np.arange(1,13)\n",
        "print(arr_1d)"
      ],
      "metadata": {
        "id": "P7NGtBHnAT2Y",
        "outputId": "c7248536-1329-40d4-c405-4fe06effcf88",
        "colab": {
          "base_uri": "https://localhost:8080/"
        }
      },
      "execution_count": 160,
      "outputs": [
        {
          "output_type": "stream",
          "name": "stdout",
          "text": [
            "[ 1  2  3  4  5  6  7  8  9 10 11 12]\n"
          ]
        }
      ]
    },
    {
      "cell_type": "code",
      "source": [
        "#arange() : np.araange(start, End, Range)\n",
        "even = np.arange(2,13,2)\n",
        "print(even)"
      ],
      "metadata": {
        "id": "QS95jUomHHVk",
        "outputId": "47eb93a5-5cb5-4290-8759-6b96dc625118",
        "colab": {
          "base_uri": "https://localhost:8080/"
        }
      },
      "execution_count": 161,
      "outputs": [
        {
          "output_type": "stream",
          "name": "stdout",
          "text": [
            "[ 2  4  6  8 10 12]\n"
          ]
        }
      ]
    },
    {
      "cell_type": "markdown",
      "source": [
        "### **linespace()**"
      ],
      "metadata": {
        "id": "EFo91hZOA_9o"
      }
    },
    {
      "cell_type": "code",
      "source": [
        "#linespace() : np.linspace(start,End, line Space)\n",
        "ar = np.linspace(1,10,3)\n",
        "print(ar)"
      ],
      "metadata": {
        "id": "ksFvYNXZBPgU",
        "outputId": "68960ff9-92ab-41bb-e089-7da921bbfe5b",
        "colab": {
          "base_uri": "https://localhost:8080/"
        }
      },
      "execution_count": 162,
      "outputs": [
        {
          "output_type": "stream",
          "name": "stdout",
          "text": [
            "[ 1.   5.5 10. ]\n"
          ]
        }
      ]
    },
    {
      "cell_type": "markdown",
      "source": [
        "### **reshape()**"
      ],
      "metadata": {
        "id": "CN0gcrs-FExC"
      }
    },
    {
      "cell_type": "code",
      "source": [
        "#Changing array dimention: array_Name.reshape(row,column)\n",
        "arr_2d = arr_1d.reshape(3,4)\n",
        "print(arr_2d)"
      ],
      "metadata": {
        "id": "pQZ7yC4OE8RB",
        "outputId": "b565b872-65f7-45ce-edec-a0a4dabd17ec",
        "colab": {
          "base_uri": "https://localhost:8080/"
        }
      },
      "execution_count": 163,
      "outputs": [
        {
          "output_type": "stream",
          "name": "stdout",
          "text": [
            "[[ 1  2  3  4]\n",
            " [ 5  6  7  8]\n",
            " [ 9 10 11 12]]\n"
          ]
        }
      ]
    },
    {
      "cell_type": "code",
      "source": [
        "arr_3d = arr_1d.reshape(2,3,2)\n",
        "print(arr_3d)"
      ],
      "metadata": {
        "id": "oVOlxZtzJYpb",
        "outputId": "31c1e10a-daaa-47d6-9e63-f6bcd014125f",
        "colab": {
          "base_uri": "https://localhost:8080/"
        }
      },
      "execution_count": 164,
      "outputs": [
        {
          "output_type": "stream",
          "name": "stdout",
          "text": [
            "[[[ 1  2]\n",
            "  [ 3  4]\n",
            "  [ 5  6]]\n",
            "\n",
            " [[ 7  8]\n",
            "  [ 9 10]\n",
            "  [11 12]]]\n"
          ]
        }
      ]
    },
    {
      "cell_type": "markdown",
      "source": [
        "### **Converting Multidimentionl array to 1D array: ravel()**"
      ],
      "metadata": {
        "id": "gg1XXUfyKeZY"
      }
    },
    {
      "cell_type": "code",
      "source": [
        "arr_3d.ravel()"
      ],
      "metadata": {
        "id": "EaPOHSvTK5KY",
        "outputId": "a5e90240-7c78-4314-9c18-47bcfa111ce6",
        "colab": {
          "base_uri": "https://localhost:8080/"
        }
      },
      "execution_count": 165,
      "outputs": [
        {
          "output_type": "execute_result",
          "data": {
            "text/plain": [
              "array([ 1,  2,  3,  4,  5,  6,  7,  8,  9, 10, 11, 12])"
            ]
          },
          "metadata": {},
          "execution_count": 165
        }
      ]
    },
    {
      "cell_type": "code",
      "source": [
        "arr_3d.flatten()"
      ],
      "metadata": {
        "id": "0W7b7JWZLaIx",
        "outputId": "6b0eb1ed-f5d7-433a-9e48-3def704cc11f",
        "colab": {
          "base_uri": "https://localhost:8080/"
        }
      },
      "execution_count": 166,
      "outputs": [
        {
          "output_type": "execute_result",
          "data": {
            "text/plain": [
              "array([ 1,  2,  3,  4,  5,  6,  7,  8,  9, 10, 11, 12])"
            ]
          },
          "metadata": {},
          "execution_count": 166
        }
      ]
    },
    {
      "cell_type": "markdown",
      "source": [
        "### **transpose()**"
      ],
      "metadata": {
        "id": "mF9HdxcgLZkP"
      }
    },
    {
      "cell_type": "code",
      "source": [
        "arr_2d.transpose()"
      ],
      "metadata": {
        "id": "XVtyn76tMRqO",
        "outputId": "c4965041-6b9a-46d8-9679-e0e17e0ea1d9",
        "colab": {
          "base_uri": "https://localhost:8080/"
        }
      },
      "execution_count": 167,
      "outputs": [
        {
          "output_type": "execute_result",
          "data": {
            "text/plain": [
              "array([[ 1,  5,  9],\n",
              "       [ 2,  6, 10],\n",
              "       [ 3,  7, 11],\n",
              "       [ 4,  8, 12]])"
            ]
          },
          "metadata": {},
          "execution_count": 167
        }
      ]
    },
    {
      "cell_type": "code",
      "source": [
        "arr_2d.T"
      ],
      "metadata": {
        "id": "THcgckzhM3oI",
        "outputId": "2498ea73-7703-46f9-a004-81d56aa1ad8e",
        "colab": {
          "base_uri": "https://localhost:8080/"
        }
      },
      "execution_count": 168,
      "outputs": [
        {
          "output_type": "execute_result",
          "data": {
            "text/plain": [
              "array([[ 1,  5,  9],\n",
              "       [ 2,  6, 10],\n",
              "       [ 3,  7, 11],\n",
              "       [ 4,  8, 12]])"
            ]
          },
          "metadata": {},
          "execution_count": 168
        }
      ]
    }
  ]
}