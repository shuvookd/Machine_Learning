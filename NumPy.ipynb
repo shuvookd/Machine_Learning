{
  "nbformat": 4,
  "nbformat_minor": 0,
  "metadata": {
    "colab": {
      "provenance": [],
      "authorship_tag": "ABX9TyOM80QlzvzSHlekvSzQERj9",
      "include_colab_link": true
    },
    "kernelspec": {
      "name": "python3",
      "display_name": "Python 3"
    },
    "language_info": {
      "name": "python"
    }
  },
  "cells": [
    {
      "cell_type": "markdown",
      "metadata": {
        "id": "view-in-github",
        "colab_type": "text"
      },
      "source": [
        "<a href=\"https://colab.research.google.com/github/shuvookd/Machine_Learning/blob/main/NumPy.ipynb\" target=\"_parent\"><img src=\"https://colab.research.google.com/assets/colab-badge.svg\" alt=\"Open In Colab\"/></a>"
      ]
    },
    {
      "cell_type": "markdown",
      "source": [
        "### **What is Numpy?**\n",
        "\n",
        "Ans: **NumPy** is a scientific computing library for python.\n",
        "\n",
        "Support large number of data in the form of multi-dimensional array and matrix.\n"
      ],
      "metadata": {
        "id": "wlIpjDYcdYZl"
      }
    },
    {
      "cell_type": "markdown",
      "source": [
        "### **NumPy Information**\n",
        "NumPy 2d Array(Metrix)\n",
        "\n",
        "NumPy 1d Array(Vector)\n",
        "\n",
        "***Extension:***\n",
        "\n",
        ".tsv(Tab)\n",
        "\n",
        ".csv(Comma)"
      ],
      "metadata": {
        "id": "gJobw4hoevCa"
      }
    },
    {
      "cell_type": "markdown",
      "source": [
        "### **NumPy Installation**\n",
        "\n",
        "pip install numpy"
      ],
      "metadata": {
        "id": "7JFfXIbYfdVr"
      }
    },
    {
      "cell_type": "code",
      "execution_count": 192,
      "metadata": {
        "id": "22OLkgytdFrI"
      },
      "outputs": [],
      "source": [
        "import numpy as np"
      ]
    },
    {
      "cell_type": "markdown",
      "source": [
        "### NumPy Function\n",
        "\n",
        "Type of variable: **type(arrayName)**\n",
        "\n",
        "Convert variable to boolean: **bool(var_name)**\n",
        "\n",
        "arange() : **np.araange(start, End, Range)**\n",
        "\n",
        "Linespace() : **np.linspace(start,End, line Space)**\n",
        "\n",
        "Changing array dimention: **array_Name.reshape(row,column)**\n",
        "\n",
        "Multidimentionl array to 1D array: **array_name.ravel()** or **array_name.flatten()**\n",
        "\n",
        "Make Transpose: **array_name.transpose()**\n",
        "or **array_name.T**\n",
        "\n",
        "To know Dimension of array: **arrayName.ndim**\n",
        "\n",
        "Size of array: **arrayName.size**\n",
        "\n",
        "Shape of array: **arrayName.shape**\n",
        "\n",
        "Data Type of array: **arrayName.dtype**\n",
        "\n",
        "Creating Ones Matrix: **np.ones((row,colunm), dtype = int/float/bool/str)**\n",
        "\n",
        "Creating Zeros Matrix: **np.zeros((row,colunm), dtype = int/float/bool/str)**\n"
      ],
      "metadata": {
        "id": "6KkD1khnkEe6"
      }
    },
    {
      "cell_type": "markdown",
      "source": [
        "### **Create 1D Array**"
      ],
      "metadata": {
        "id": "7GCH2Uqehasw"
      }
    },
    {
      "cell_type": "code",
      "source": [
        "array_1d = np.array([1,2,3,4])\n",
        "print(array_1d)"
      ],
      "metadata": {
        "colab": {
          "base_uri": "https://localhost:8080/"
        },
        "id": "xoxN3inugKm-",
        "outputId": "727738ed-4542-42a5-98e4-8c45283a9cf4"
      },
      "execution_count": 193,
      "outputs": [
        {
          "output_type": "stream",
          "name": "stdout",
          "text": [
            "[1 2 3 4]\n"
          ]
        }
      ]
    },
    {
      "cell_type": "code",
      "source": [
        "# To know The type of variable: type()\n",
        "type(array_1d)"
      ],
      "metadata": {
        "colab": {
          "base_uri": "https://localhost:8080/"
        },
        "id": "5IIOS0auglmk",
        "outputId": "3f5a12af-ff35-4544-aca5-e7ab63ed0739"
      },
      "execution_count": 194,
      "outputs": [
        {
          "output_type": "execute_result",
          "data": {
            "text/plain": [
              "numpy.ndarray"
            ]
          },
          "metadata": {},
          "execution_count": 194
        }
      ]
    },
    {
      "cell_type": "code",
      "source": [
        "# To know The dimension of array: arrayName.ndim\n",
        "array_1d.ndim"
      ],
      "metadata": {
        "colab": {
          "base_uri": "https://localhost:8080/"
        },
        "id": "M0-TbrQZgram",
        "outputId": "d88ea37a-2895-4e91-93f5-f99afe202f91"
      },
      "execution_count": 195,
      "outputs": [
        {
          "output_type": "execute_result",
          "data": {
            "text/plain": [
              "1"
            ]
          },
          "metadata": {},
          "execution_count": 195
        }
      ]
    },
    {
      "cell_type": "markdown",
      "source": [
        "### **Creating 2D Array**"
      ],
      "metadata": {
        "id": "3AcgbhjUhp60"
      }
    },
    {
      "cell_type": "code",
      "source": [
        "array_2d = np.array([[1,2,3,4],[5,6,7,8]])\n",
        "print(array_2d)\n"
      ],
      "metadata": {
        "colab": {
          "base_uri": "https://localhost:8080/"
        },
        "id": "Jj9itZ72hRIv",
        "outputId": "1004c420-c245-4ba3-f2ea-d2541e1fa52b"
      },
      "execution_count": 196,
      "outputs": [
        {
          "output_type": "stream",
          "name": "stdout",
          "text": [
            "[[1 2 3 4]\n",
            " [5 6 7 8]]\n"
          ]
        }
      ]
    },
    {
      "cell_type": "code",
      "source": [
        "# To know The size of array: arrayName.size\n",
        "array_2d.size"
      ],
      "metadata": {
        "colab": {
          "base_uri": "https://localhost:8080/"
        },
        "id": "pDpkaP1rjmko",
        "outputId": "b14ad9ec-e753-45fd-e294-6c5b24560253"
      },
      "execution_count": 197,
      "outputs": [
        {
          "output_type": "execute_result",
          "data": {
            "text/plain": [
              "8"
            ]
          },
          "metadata": {},
          "execution_count": 197
        }
      ]
    },
    {
      "cell_type": "code",
      "source": [
        "# To know The shape of array: arrayName.shape\n",
        "#(Row, Colunm)\n",
        "array_2d.shape"
      ],
      "metadata": {
        "colab": {
          "base_uri": "https://localhost:8080/"
        },
        "id": "bBXsDCNpjr84",
        "outputId": "1337cfd2-2848-45bf-a8a3-7e9ce2a8889b"
      },
      "execution_count": 198,
      "outputs": [
        {
          "output_type": "execute_result",
          "data": {
            "text/plain": [
              "(2, 4)"
            ]
          },
          "metadata": {},
          "execution_count": 198
        }
      ]
    },
    {
      "cell_type": "code",
      "source": [
        "# To know The Data Type of array: arrayName.dtype\n",
        "array_2d.dtype"
      ],
      "metadata": {
        "colab": {
          "base_uri": "https://localhost:8080/"
        },
        "id": "BEIfLjuklh6W",
        "outputId": "fed4eed7-c1ac-47c7-cb89-a8faae3fbe9b"
      },
      "execution_count": 199,
      "outputs": [
        {
          "output_type": "execute_result",
          "data": {
            "text/plain": [
              "dtype('int64')"
            ]
          },
          "metadata": {},
          "execution_count": 199
        }
      ]
    },
    {
      "cell_type": "markdown",
      "source": [
        "### **Creating One's Matrix**"
      ],
      "metadata": {
        "id": "KmIjMVDemyfZ"
      }
    },
    {
      "cell_type": "code",
      "source": [
        "matrix_1s = np.array([[1,1,1],[1,1,1],[1,1,1]])\n",
        "print(matrix_1s)\n"
      ],
      "metadata": {
        "colab": {
          "base_uri": "https://localhost:8080/"
        },
        "id": "0LRdU8NUm7hy",
        "outputId": "54338788-8191-487a-f0d5-7392485b0bea"
      },
      "execution_count": 200,
      "outputs": [
        {
          "output_type": "stream",
          "name": "stdout",
          "text": [
            "[[1 1 1]\n",
            " [1 1 1]\n",
            " [1 1 1]]\n"
          ]
        }
      ]
    },
    {
      "cell_type": "code",
      "source": [
        "ones_matrix = np.ones((2,3), dtype = int)\n",
        "print(ones_matrix)"
      ],
      "metadata": {
        "colab": {
          "base_uri": "https://localhost:8080/"
        },
        "id": "Y_-CEGMWnYly",
        "outputId": "c91427be-2c9f-422c-a15f-4e20a43f9d1b"
      },
      "execution_count": 201,
      "outputs": [
        {
          "output_type": "stream",
          "name": "stdout",
          "text": [
            "[[1 1 1]\n",
            " [1 1 1]]\n"
          ]
        }
      ]
    },
    {
      "cell_type": "markdown",
      "source": [
        "### **Creating Zero's Matrix**"
      ],
      "metadata": {
        "id": "IOsQqqEvpPAJ"
      }
    },
    {
      "cell_type": "code",
      "source": [
        "Zeros_matrix = np.zeros((3,4), dtype = bool)\n",
        "print(Zeros_matrix)"
      ],
      "metadata": {
        "colab": {
          "base_uri": "https://localhost:8080/"
        },
        "id": "P-X1sQWNpRJi",
        "outputId": "0e5849a1-202b-45fc-d8f7-0e2ad8e2d960"
      },
      "execution_count": 202,
      "outputs": [
        {
          "output_type": "stream",
          "name": "stdout",
          "text": [
            "[[False False False False]\n",
            " [False False False False]\n",
            " [False False False False]]\n"
          ]
        }
      ]
    },
    {
      "cell_type": "code",
      "source": [
        "Zeros_matrix = np.zeros((3,4), dtype = str)\n",
        "print(Zeros_matrix)"
      ],
      "metadata": {
        "colab": {
          "base_uri": "https://localhost:8080/"
        },
        "id": "HhIPz93iqMUo",
        "outputId": "f59eff98-27ca-465b-e440-039905f609ed"
      },
      "execution_count": 203,
      "outputs": [
        {
          "output_type": "stream",
          "name": "stdout",
          "text": [
            "[['' '' '' '']\n",
            " ['' '' '' '']\n",
            " ['' '' '' '']]\n"
          ]
        }
      ]
    },
    {
      "cell_type": "code",
      "source": [
        "#Convert string to boolean\n",
        "empty_string = ''\n",
        "print(bool(empty_string))\n"
      ],
      "metadata": {
        "colab": {
          "base_uri": "https://localhost:8080/"
        },
        "id": "cP768yIPrCkN",
        "outputId": "7d1cf748-a9fc-46fd-a808-6c27cfe970de"
      },
      "execution_count": 204,
      "outputs": [
        {
          "output_type": "stream",
          "name": "stdout",
          "text": [
            "False\n"
          ]
        }
      ]
    },
    {
      "cell_type": "markdown",
      "source": [
        "### **Create Empty Matrix**"
      ],
      "metadata": {
        "id": "0PVFeYUBui68"
      }
    },
    {
      "cell_type": "code",
      "source": [
        "# Expty matrix always show random Values\n",
        "empty_matrix = np.empty((3,3))\n",
        "print(empty_matrix)"
      ],
      "metadata": {
        "colab": {
          "base_uri": "https://localhost:8080/"
        },
        "id": "My14iGNysRjV",
        "outputId": "b236e704-4558-4504-cea3-2f34e4040d46"
      },
      "execution_count": 205,
      "outputs": [
        {
          "output_type": "stream",
          "name": "stdout",
          "text": [
            "[[5.e-324 5.e-324 5.e-324]\n",
            " [5.e-324 5.e-324 5.e-324]\n",
            " [5.e-324 5.e-324 5.e-324]]\n"
          ]
        }
      ]
    },
    {
      "cell_type": "markdown",
      "source": [
        "### **arrange()**\n",
        "\n",
        "np.araange(start, End, Range)"
      ],
      "metadata": {
        "id": "r13i_Un8_6jg"
      }
    },
    {
      "cell_type": "code",
      "source": [
        "#arange() : np.araange(start, End)\n",
        "arr_1d = np.arange(1,13)\n",
        "print(arr_1d)"
      ],
      "metadata": {
        "colab": {
          "base_uri": "https://localhost:8080/"
        },
        "id": "P7NGtBHnAT2Y",
        "outputId": "e410ec5f-2b5e-452d-c878-dc882a782a10"
      },
      "execution_count": 206,
      "outputs": [
        {
          "output_type": "stream",
          "name": "stdout",
          "text": [
            "[ 1  2  3  4  5  6  7  8  9 10 11 12]\n"
          ]
        }
      ]
    },
    {
      "cell_type": "code",
      "source": [
        "#arange() : np.araange(start, End, Range)\n",
        "even = np.arange(2,13,2)\n",
        "print(even)"
      ],
      "metadata": {
        "colab": {
          "base_uri": "https://localhost:8080/"
        },
        "id": "QS95jUomHHVk",
        "outputId": "85bb5709-6dbb-4ff9-e691-d10dc5cbabef"
      },
      "execution_count": 207,
      "outputs": [
        {
          "output_type": "stream",
          "name": "stdout",
          "text": [
            "[ 2  4  6  8 10 12]\n"
          ]
        }
      ]
    },
    {
      "cell_type": "markdown",
      "source": [
        "### **linespace()**"
      ],
      "metadata": {
        "id": "EFo91hZOA_9o"
      }
    },
    {
      "cell_type": "code",
      "source": [
        "#linespace() : np.linspace(start,End, line Space)\n",
        "ar = np.linspace(1,10,3)\n",
        "print(ar)"
      ],
      "metadata": {
        "colab": {
          "base_uri": "https://localhost:8080/"
        },
        "id": "ksFvYNXZBPgU",
        "outputId": "b6b448c9-2a32-45a4-91e6-3d7d5d189855"
      },
      "execution_count": 208,
      "outputs": [
        {
          "output_type": "stream",
          "name": "stdout",
          "text": [
            "[ 1.   5.5 10. ]\n"
          ]
        }
      ]
    },
    {
      "cell_type": "markdown",
      "source": [
        "### **reshape()**"
      ],
      "metadata": {
        "id": "CN0gcrs-FExC"
      }
    },
    {
      "cell_type": "code",
      "source": [
        "#Changing array dimention: array_Name.reshape(row,column)\n",
        "arr_2d = arr_1d.reshape(3,4)\n",
        "print(arr_2d)"
      ],
      "metadata": {
        "colab": {
          "base_uri": "https://localhost:8080/"
        },
        "id": "pQZ7yC4OE8RB",
        "outputId": "3dc7a448-261f-47cf-ca39-e9aeb0ff36dc"
      },
      "execution_count": 209,
      "outputs": [
        {
          "output_type": "stream",
          "name": "stdout",
          "text": [
            "[[ 1  2  3  4]\n",
            " [ 5  6  7  8]\n",
            " [ 9 10 11 12]]\n"
          ]
        }
      ]
    },
    {
      "cell_type": "code",
      "source": [
        "arr_3d = arr_1d.reshape(2,3,2)\n",
        "print(arr_3d)"
      ],
      "metadata": {
        "colab": {
          "base_uri": "https://localhost:8080/"
        },
        "id": "oVOlxZtzJYpb",
        "outputId": "09594dfd-ac72-46a5-bda4-8cf5a80be37f"
      },
      "execution_count": 210,
      "outputs": [
        {
          "output_type": "stream",
          "name": "stdout",
          "text": [
            "[[[ 1  2]\n",
            "  [ 3  4]\n",
            "  [ 5  6]]\n",
            "\n",
            " [[ 7  8]\n",
            "  [ 9 10]\n",
            "  [11 12]]]\n"
          ]
        }
      ]
    },
    {
      "cell_type": "markdown",
      "source": [
        "### **Converting Multidimentionl array to 1D array: ravel()**"
      ],
      "metadata": {
        "id": "gg1XXUfyKeZY"
      }
    },
    {
      "cell_type": "code",
      "source": [
        "arr_3d.ravel()"
      ],
      "metadata": {
        "colab": {
          "base_uri": "https://localhost:8080/"
        },
        "id": "EaPOHSvTK5KY",
        "outputId": "b2753734-2a24-422e-dcb7-81a42c65a155"
      },
      "execution_count": 211,
      "outputs": [
        {
          "output_type": "execute_result",
          "data": {
            "text/plain": [
              "array([ 1,  2,  3,  4,  5,  6,  7,  8,  9, 10, 11, 12])"
            ]
          },
          "metadata": {},
          "execution_count": 211
        }
      ]
    },
    {
      "cell_type": "code",
      "source": [
        "arr_3d.flatten()"
      ],
      "metadata": {
        "colab": {
          "base_uri": "https://localhost:8080/"
        },
        "id": "0W7b7JWZLaIx",
        "outputId": "958e39af-a6fb-4b1b-ff39-cafb29619878"
      },
      "execution_count": 212,
      "outputs": [
        {
          "output_type": "execute_result",
          "data": {
            "text/plain": [
              "array([ 1,  2,  3,  4,  5,  6,  7,  8,  9, 10, 11, 12])"
            ]
          },
          "metadata": {},
          "execution_count": 212
        }
      ]
    },
    {
      "cell_type": "markdown",
      "source": [
        "### **transpose()**"
      ],
      "metadata": {
        "id": "mF9HdxcgLZkP"
      }
    },
    {
      "cell_type": "code",
      "source": [
        "arr_2d.transpose()"
      ],
      "metadata": {
        "colab": {
          "base_uri": "https://localhost:8080/"
        },
        "id": "XVtyn76tMRqO",
        "outputId": "145c6bac-c72d-465e-81d6-a60a2062e708"
      },
      "execution_count": 213,
      "outputs": [
        {
          "output_type": "execute_result",
          "data": {
            "text/plain": [
              "array([[ 1,  5,  9],\n",
              "       [ 2,  6, 10],\n",
              "       [ 3,  7, 11],\n",
              "       [ 4,  8, 12]])"
            ]
          },
          "metadata": {},
          "execution_count": 213
        }
      ]
    },
    {
      "cell_type": "code",
      "source": [
        "arr_2d.T"
      ],
      "metadata": {
        "colab": {
          "base_uri": "https://localhost:8080/"
        },
        "id": "THcgckzhM3oI",
        "outputId": "ba689ec5-f059-42d3-e8f6-f8b779576732"
      },
      "execution_count": 214,
      "outputs": [
        {
          "output_type": "execute_result",
          "data": {
            "text/plain": [
              "array([[ 1,  5,  9],\n",
              "       [ 2,  6, 10],\n",
              "       [ 3,  7, 11],\n",
              "       [ 4,  8, 12]])"
            ]
          },
          "metadata": {},
          "execution_count": 214
        }
      ]
    }
  ]
}