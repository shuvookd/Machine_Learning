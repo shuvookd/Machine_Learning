{
  "nbformat": 4,
  "nbformat_minor": 0,
  "metadata": {
    "colab": {
      "provenance": [],
      "authorship_tag": "ABX9TyMvagEGQLYeVHGEva7cLBDw",
      "include_colab_link": true
    },
    "kernelspec": {
      "name": "python3",
      "display_name": "Python 3"
    },
    "language_info": {
      "name": "python"
    }
  },
  "cells": [
    {
      "cell_type": "markdown",
      "metadata": {
        "id": "view-in-github",
        "colab_type": "text"
      },
      "source": [
        "<a href=\"https://colab.research.google.com/github/shuvookd/Machine_Learning/blob/main/Pandas(fillna(0%2Cffill_pad%2Cbfill%2Climit%2Cinplace)).ipynb\" target=\"_parent\"><img src=\"https://colab.research.google.com/assets/colab-badge.svg\" alt=\"Open In Colab\"/></a>"
      ]
    },
    {
      "cell_type": "code",
      "execution_count": null,
      "metadata": {
        "id": "Oh4Cq8iCeaF3"
      },
      "outputs": [],
      "source": [
        "import pandas as pd"
      ]
    },
    {
      "cell_type": "code",
      "source": [
        "df = pd.read_csv('/content/Fortune_10.csv')\n",
        "df.tail()"
      ],
      "metadata": {
        "id": "KnYptnPne5Wb"
      },
      "execution_count": null,
      "outputs": []
    },
    {
      "cell_type": "markdown",
      "source": [
        "### **fillna()**"
      ],
      "metadata": {
        "id": "k2PWfoacfb3Q"
      }
    },
    {
      "cell_type": "code",
      "source": [
        "#Fill NaN values with 0,1,2,...\n",
        "df.fillna(0)"
      ],
      "metadata": {
        "id": "zb0MRLTifJfI"
      },
      "execution_count": null,
      "outputs": []
    },
    {
      "cell_type": "code",
      "source": [
        "#Fill NaN values with anything by dict\n",
        "df.fillna({'Expenses': 'None'})"
      ],
      "metadata": {
        "id": "hq12xrb4fpmw"
      },
      "execution_count": null,
      "outputs": []
    },
    {
      "cell_type": "code",
      "source": [
        "#Fill NaN values with anything by forWord Value\n",
        "df.fillna(method = 'ffill')#trick 1"
      ],
      "metadata": {
        "id": "e7YKYY07f4Qr"
      },
      "execution_count": null,
      "outputs": []
    },
    {
      "cell_type": "code",
      "source": [
        "#Fill NaN values with anything by forWord Value\n",
        "df.fillna(method = 'pad')#trick 2"
      ],
      "metadata": {
        "id": "Tjt3cAyAgoWs"
      },
      "execution_count": null,
      "outputs": []
    },
    {
      "cell_type": "code",
      "source": [
        "#Fill NaN values with anything by backWord Value\n",
        "df.fillna(method = 'bfill')"
      ],
      "metadata": {
        "id": "L8c7fhR6g1Tb"
      },
      "execution_count": null,
      "outputs": []
    },
    {
      "cell_type": "code",
      "source": [
        "#Fill NaN values with anything by forWord Value by row\n",
        "df.fillna(method = 'ffill', axis = 0)"
      ],
      "metadata": {
        "id": "TA0VCRcog82d"
      },
      "execution_count": null,
      "outputs": []
    },
    {
      "cell_type": "code",
      "source": [
        "#Fill NaN values with anything by forWord Value by column\n",
        "df.fillna(method = 'ffill', axis = 1)"
      ],
      "metadata": {
        "id": "oUCr1YqJha_3"
      },
      "execution_count": null,
      "outputs": []
    },
    {
      "cell_type": "code",
      "source": [
        "#Fill NaN values with anything by backWord Value by row\n",
        "df.fillna(method = 'bfill', axis = 0)"
      ],
      "metadata": {
        "id": "sw2-Ps2hh-rt"
      },
      "execution_count": null,
      "outputs": []
    },
    {
      "cell_type": "code",
      "source": [
        "#Fill NaN values with anything by backWord Value by column\n",
        "df.fillna(method = 'bfill', axis = 1)"
      ],
      "metadata": {
        "id": "pDKDod_fiBjy"
      },
      "execution_count": null,
      "outputs": []
    },
    {
      "cell_type": "code",
      "source": [
        "#Fill NaN values with 0 by use limit\n",
        "df.fillna(0, limit = 2)"
      ],
      "metadata": {
        "id": "CifL5EIciJDB"
      },
      "execution_count": null,
      "outputs": []
    },
    {
      "cell_type": "code",
      "source": [
        "#Fill NaN values with 0 by use limit & method\n",
        "df.fillna(method = 'ffill', limit = 2)"
      ],
      "metadata": {
        "id": "hJDKQU-ekzsV"
      },
      "execution_count": null,
      "outputs": []
    },
    {
      "cell_type": "code",
      "source": [
        "#Fill NaN values with  any value by inplace\n",
        "df.fillna(5, inplace = True)\n",
        "df"
      ],
      "metadata": {
        "id": "cYUc3swslLbW"
      },
      "execution_count": null,
      "outputs": []
    }
  ]
}