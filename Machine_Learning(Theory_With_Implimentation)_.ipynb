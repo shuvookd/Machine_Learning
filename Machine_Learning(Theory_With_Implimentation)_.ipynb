{
  "nbformat": 4,
  "nbformat_minor": 0,
  "metadata": {
    "colab": {
      "provenance": [],
      "authorship_tag": "ABX9TyN+t6KKrrMWW+GBtfJDuglw",
      "include_colab_link": true
    },
    "kernelspec": {
      "name": "python3",
      "display_name": "Python 3"
    },
    "language_info": {
      "name": "python"
    }
  },
  "cells": [
    {
      "cell_type": "markdown",
      "metadata": {
        "id": "view-in-github",
        "colab_type": "text"
      },
      "source": [
        "<a href=\"https://colab.research.google.com/github/shuvookd/Machine_Learning/blob/main/Machine_Learning(Theory_With_Implimentation)_.ipynb\" target=\"_parent\"><img src=\"https://colab.research.google.com/assets/colab-badge.svg\" alt=\"Open In Colab\"/></a>"
      ]
    },
    {
      "cell_type": "markdown",
      "source": [
        "Data Pre-procession & Cleaning\n",
        "    \n",
        "**Pthon Libraries**\n",
        "\n",
        "1.   NumPy\n",
        "2.   Pandas\n",
        "3.   Matplotlib\n",
        "4.   Seaborn\n",
        "5.   SciKit-learn\n",
        "\n"
      ],
      "metadata": {
        "id": "ro49vHcSOFOT"
      }
    },
    {
      "cell_type": "markdown",
      "source": [
        "***What is Machine Learning?***\n",
        "\n",
        "Ans: Machine learning is a branch of artificial intelligence (AI) and computer science which focuses on the use of data and algorithms to imitate the way that humans learn, gradually improving its accuracy."
      ],
      "metadata": {
        "id": "bcyCM8BET5xG"
      }
    },
    {
      "cell_type": "markdown",
      "source": [
        "Three types of **Machine Learning**\n",
        "\n",
        "    1. Supervised Learning\n",
        "    2. Unsupervised Learning\n",
        "    3. Rainforcement Learning"
      ],
      "metadata": {
        "id": "t1jaNSM2RSGU"
      }
    },
    {
      "cell_type": "markdown",
      "source": [
        "**Supervised Learning**\n",
        "\n",
        "1.   Regression\n",
        "    1. Linear Regression\n",
        "\n",
        "            *   Model Regression(Linear Equation)\n",
        "            *   Cost Function\n",
        "    2. Optimization\n",
        "\n",
        "            *   Gradiant Descent\n",
        "            *   Batch and Mini Batch\n",
        "            *   Stochastic\n",
        "    \n",
        "    3. Confution Matrix\n",
        "    4. Bias-Variance Trade Off\n",
        "    5. Multiple Linear Regression\n",
        "    6. Polynomial Regression\n",
        "    7. Overfitting and Under fitting\n",
        "    8. Support Vector Machine\n",
        "    9. Decision Tree Regression\n",
        "    10. Random Forest Regression\n",
        "\n",
        "\n",
        "\n",
        "2.   Classification\n",
        "\n",
        "    1. Logistic Regression\n",
        "    2. K-Nearest Neighbors\n",
        "    3. Support Vector Machine(SVM)\n",
        "        Kernel SVM\n",
        "    4. Naive Bayes\n",
        "    5. Decision Tree Classification\n",
        "    6. Random Forest Classification\n",
        "\n",
        "\n"
      ],
      "metadata": {
        "id": "iWaoBkOBOpaV"
      }
    },
    {
      "cell_type": "markdown",
      "source": [
        "**Unupervised Learning**\n",
        "\n",
        "1.   Clustering\n",
        "\n",
        "            *   K-Means Clustering\n",
        "            *   Hierarchical Clustering\n",
        "2. Association Rule Mining\n",
        "\n",
        "            *   Apriori\n",
        "            *   Eclat\n",
        "3. Dimensionality Reduction\n",
        "            *   Principal Component Analysis\n",
        "            *   Linear Discrimintal Analysis(LDA)\n",
        "            *   Kernel PCA\n",
        "4. Regularization\n",
        "            *   Ridge\n",
        "            *   Lasso\n",
        "5. Model Selection\n",
        "            *   K-Fold Cross Validation\n",
        "            *   Grid Search\n",
        "6. Ensemble Learning\n",
        "            *   Bagging & Boosting\n",
        "            *   XGBoost\n"
      ],
      "metadata": {
        "id": "-hPyYWAfRpQ5"
      }
    },
    {
      "cell_type": "markdown",
      "source": [
        "**Rainforcement Learning**\n",
        "\n",
        "1.   Upper Confidence Bound\n",
        "2.   Thomson Sampling"
      ],
      "metadata": {
        "id": "W0WrpQYZTXpG"
      }
    }
  ]
}